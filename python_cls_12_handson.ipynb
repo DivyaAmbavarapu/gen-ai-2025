{
  "cells": [
    {
      "cell_type": "code",
      "source": [
        "import numpy as np"
      ],
      "metadata": {
        "id": "jMwGC92ICmLz"
      },
      "execution_count": null,
      "outputs": []
    },
    {
      "cell_type": "code",
      "source": [
        "#Retail dataset as numpy array\n",
        "retail_np_array = np.array([\n",
        "    [1001, \"Laptop\", 1, 50000, 50000],\n",
        "    [1002, \"Mouse\", 2, 500, 1000],\n",
        "    [1003, \"Keyboard\", 1, 1000, 1000],\n",
        "    [1004, \"Momitor\", 2, 7000, 14000],\n",
        "    [1005, \"Headphones\", 1, 2000, 2000]\n",
        "], dtype=object)\n",
        "retail_np_array"
      ],
      "metadata": {
        "id": "qxBgysDbCmId",
        "outputId": "a34f0a12-bc41-464c-c716-92eda175caa7",
        "colab": {
          "base_uri": "https://localhost:8080/"
        }
      },
      "execution_count": null,
      "outputs": [
        {
          "output_type": "execute_result",
          "data": {
            "text/plain": [
              "array([[1001, 'Laptop', 1, 50000, 50000],\n",
              "       [1002, 'Mouse', 2, 500, 1000],\n",
              "       [1003, 'Keyboard', 1, 1000, 1000],\n",
              "       [1004, 'Momitor', 2, 7000, 14000],\n",
              "       [1005, 'Headphones', 1, 2000, 2000]], dtype=object)"
            ]
          },
          "metadata": {},
          "execution_count": 4
        }
      ]
    },
    {
      "cell_type": "code",
      "source": [
        "#Extracting columns\n",
        "customer_ids = retail_np_array[:, 0]\n",
        "products = retail_np_array[:, 1]\n",
        "qunatities = retail_np_array[:, 2].astype(int)\n",
        "prices = retail_np_array[:, 3].astype(int)\n",
        "totals = retail_np_array[:, 4].astype(int)\n",
        "retail_np_array"
      ],
      "metadata": {
        "id": "N2VEp0w2CmAI",
        "outputId": "8d765098-04a0-4420-b633-85ecd1ec1fea",
        "colab": {
          "base_uri": "https://localhost:8080/"
        }
      },
      "execution_count": null,
      "outputs": [
        {
          "output_type": "execute_result",
          "data": {
            "text/plain": [
              "array([[1001, 'Laptop', 1, 50000, 50000],\n",
              "       [1002, 'Mouse', 2, 500, 1000],\n",
              "       [1003, 'Keyboard', 1, 1000, 1000],\n",
              "       [1004, 'Momitor', 2, 7000, 14000],\n",
              "       [1005, 'Headphones', 1, 2000, 2000]], dtype=object)"
            ]
          },
          "metadata": {},
          "execution_count": 21
        }
      ]
    },
    {
      "cell_type": "code",
      "source": [
        "retail_np_array.shape[0]"
      ],
      "metadata": {
        "id": "6WogK4vBCl9V",
        "outputId": "2898afcb-6bc5-4787-c13b-e4c5647c8868",
        "colab": {
          "base_uri": "https://localhost:8080/"
        }
      },
      "execution_count": null,
      "outputs": [
        {
          "output_type": "execute_result",
          "data": {
            "text/plain": [
              "5"
            ]
          },
          "metadata": {},
          "execution_count": 13
        }
      ]
    },
    {
      "cell_type": "code",
      "source": [
        "np.sum(totals)"
      ],
      "metadata": {
        "id": "05IEzZ8GCl6x",
        "outputId": "e253a13d-38ec-42ff-fe32-0464f1fc3116",
        "colab": {
          "base_uri": "https://localhost:8080/"
        }
      },
      "execution_count": null,
      "outputs": [
        {
          "output_type": "execute_result",
          "data": {
            "text/plain": [
              "np.int64(68000)"
            ]
          },
          "metadata": {},
          "execution_count": 14
        }
      ]
    },
    {
      "cell_type": "code",
      "source": [
        "np.mean(totals)"
      ],
      "metadata": {
        "id": "TmV_dgfgCl3-",
        "outputId": "9a244b29-93a1-4fd2-8cd4-d8c8364b5a95",
        "colab": {
          "base_uri": "https://localhost:8080/"
        }
      },
      "execution_count": null,
      "outputs": [
        {
          "output_type": "execute_result",
          "data": {
            "text/plain": [
              "np.float64(13600.0)"
            ]
          },
          "metadata": {},
          "execution_count": 15
        }
      ]
    },
    {
      "cell_type": "code",
      "source": [
        "products[np.argmax(totals)]"
      ],
      "metadata": {
        "id": "qCBrE3IVCl1a",
        "outputId": "2021b8d2-771d-41ba-98e4-7ac9a2b84fa6",
        "colab": {
          "base_uri": "https://localhost:8080/",
          "height": 35
        }
      },
      "execution_count": null,
      "outputs": [
        {
          "output_type": "execute_result",
          "data": {
            "text/plain": [
              "'Laptop'"
            ],
            "application/vnd.google.colaboratory.intrinsic+json": {
              "type": "string"
            }
          },
          "metadata": {},
          "execution_count": 16
        }
      ]
    },
    {
      "cell_type": "code",
      "source": [
        "products[np.argmin(totals)]"
      ],
      "metadata": {
        "id": "dz-RH8vfCly7",
        "outputId": "90671d9d-de4a-418f-ddcb-134479c15f32",
        "colab": {
          "base_uri": "https://localhost:8080/",
          "height": 35
        }
      },
      "execution_count": null,
      "outputs": [
        {
          "output_type": "execute_result",
          "data": {
            "text/plain": [
              "'Mouse'"
            ],
            "application/vnd.google.colaboratory.intrinsic+json": {
              "type": "string"
            }
          },
          "metadata": {},
          "execution_count": 17
        }
      ]
    },
    {
      "cell_type": "code",
      "source": [
        "np.mean(prices)"
      ],
      "metadata": {
        "id": "ptG1VwciClwU",
        "outputId": "76c84c15-d1e4-4a2e-d34c-fa8ae7a673bc",
        "colab": {
          "base_uri": "https://localhost:8080/"
        }
      },
      "execution_count": null,
      "outputs": [
        {
          "output_type": "execute_result",
          "data": {
            "text/plain": [
              "np.float64(12100.0)"
            ]
          },
          "metadata": {},
          "execution_count": 18
        }
      ]
    },
    {
      "cell_type": "code",
      "source": [
        "np.sum(qunatities)"
      ],
      "metadata": {
        "id": "nW0QTiQkCltt",
        "outputId": "87b119d4-41de-4001-d021-7adf9021fcfb",
        "colab": {
          "base_uri": "https://localhost:8080/"
        }
      },
      "execution_count": null,
      "outputs": [
        {
          "output_type": "execute_result",
          "data": {
            "text/plain": [
              "np.int64(7)"
            ]
          },
          "metadata": {},
          "execution_count": 23
        }
      ]
    },
    {
      "cell_type": "code",
      "source": [
        "np.unique(products,return_counts=True)"
      ],
      "metadata": {
        "id": "3MW6ZfM0ClrG",
        "outputId": "3ee5fa8f-4b0f-48f5-9be8-9309f5d82b05",
        "colab": {
          "base_uri": "https://localhost:8080/"
        }
      },
      "execution_count": null,
      "outputs": [
        {
          "output_type": "execute_result",
          "data": {
            "text/plain": [
              "(array(['Headphones', 'Keyboard', 'Laptop', 'Momitor', 'Mouse'],\n",
              "       dtype=object),\n",
              " array([1, 1, 1, 1, 1]))"
            ]
          },
          "metadata": {},
          "execution_count": 24
        }
      ]
    },
    {
      "cell_type": "code",
      "source": [
        "len(np.unique(products))"
      ],
      "metadata": {
        "id": "k1On5ns_Cloh",
        "outputId": "ea621317-ff67-455b-bcec-d3f6b6e5e1bb",
        "colab": {
          "base_uri": "https://localhost:8080/"
        }
      },
      "execution_count": null,
      "outputs": [
        {
          "output_type": "execute_result",
          "data": {
            "text/plain": [
              "5"
            ]
          },
          "metadata": {},
          "execution_count": 25
        }
      ]
    },
    {
      "cell_type": "code",
      "source": [
        "len(np.unique(customer_ids))"
      ],
      "metadata": {
        "id": "XJut6Pc_Cll1",
        "outputId": "8ddc7cf9-a85c-4d7e-bf3c-2df07cceefc0",
        "colab": {
          "base_uri": "https://localhost:8080/"
        }
      },
      "execution_count": null,
      "outputs": [
        {
          "output_type": "execute_result",
          "data": {
            "text/plain": [
              "5"
            ]
          },
          "metadata": {},
          "execution_count": 26
        }
      ]
    },
    {
      "cell_type": "code",
      "source": [
        "products.tolist()"
      ],
      "metadata": {
        "id": "t9VXNb6bCljD",
        "outputId": "35b9fb25-9dde-416d-aed8-21ac032e22e9",
        "colab": {
          "base_uri": "https://localhost:8080/"
        }
      },
      "execution_count": null,
      "outputs": [
        {
          "output_type": "execute_result",
          "data": {
            "text/plain": [
              "['Laptop', 'Mouse', 'Keyboard', 'Momitor', 'Headphones']"
            ]
          },
          "metadata": {},
          "execution_count": 27
        }
      ]
    },
    {
      "cell_type": "code",
      "source": [
        "{prod:np.sum(totals[products==prod]) for prod in np.unique(products)}"
      ],
      "metadata": {
        "id": "foAnmiOJaYGp",
        "outputId": "6a0299aa-16b7-4e96-cda8-5b1d3daedd54",
        "colab": {
          "base_uri": "https://localhost:8080/"
        }
      },
      "execution_count": null,
      "outputs": [
        {
          "output_type": "execute_result",
          "data": {
            "text/plain": [
              "{'Headphones': np.int64(2000),\n",
              " 'Keyboard': np.int64(1000),\n",
              " 'Laptop': np.int64(50000),\n",
              " 'Momitor': np.int64(14000),\n",
              " 'Mouse': np.int64(1000)}"
            ]
          },
          "metadata": {},
          "execution_count": 31
        }
      ]
    },
    {
      "cell_type": "code",
      "source": [
        "{prod:np.sum(qunatities[products==prod]) for prod in np.unique(products)}"
      ],
      "metadata": {
        "id": "XztUDtlsaYDN",
        "outputId": "f5df6211-c60a-481d-a54c-713d2ff681f6",
        "colab": {
          "base_uri": "https://localhost:8080/"
        }
      },
      "execution_count": null,
      "outputs": [
        {
          "output_type": "execute_result",
          "data": {
            "text/plain": [
              "{'Headphones': np.int64(1),\n",
              " 'Keyboard': np.int64(1),\n",
              " 'Laptop': np.int64(1),\n",
              " 'Momitor': np.int64(2),\n",
              " 'Mouse': np.int64(2)}"
            ]
          },
          "metadata": {},
          "execution_count": 32
        }
      ]
    },
    {
      "cell_type": "code",
      "source": [
        "np.max(prices)"
      ],
      "metadata": {
        "id": "IMAsODbMaX_1",
        "outputId": "1d682196-3e1b-4fe6-a5a6-05db0b927d01",
        "colab": {
          "base_uri": "https://localhost:8080/"
        }
      },
      "execution_count": null,
      "outputs": [
        {
          "output_type": "execute_result",
          "data": {
            "text/plain": [
              "np.int64(50000)"
            ]
          },
          "metadata": {},
          "execution_count": 33
        }
      ]
    },
    {
      "cell_type": "code",
      "source": [
        "np.min(prices)"
      ],
      "metadata": {
        "id": "MeVfjQXbaX7_",
        "outputId": "b98222fd-ca8c-485c-cb16-7a28fa767534",
        "colab": {
          "base_uri": "https://localhost:8080/"
        }
      },
      "execution_count": null,
      "outputs": [
        {
          "output_type": "execute_result",
          "data": {
            "text/plain": [
              "np.int64(500)"
            ]
          },
          "metadata": {},
          "execution_count": 35
        }
      ]
    },
    {
      "cell_type": "code",
      "source": [
        "products[qunatities>1].tolist()"
      ],
      "metadata": {
        "id": "6H-1_FDOaX5p",
        "outputId": "f10cb46b-71a0-4dd3-bea6-194b6d8d336e",
        "colab": {
          "base_uri": "https://localhost:8080/"
        }
      },
      "execution_count": null,
      "outputs": [
        {
          "output_type": "execute_result",
          "data": {
            "text/plain": [
              "['Mouse', 'Momitor']"
            ]
          },
          "metadata": {},
          "execution_count": 38
        }
      ]
    },
    {
      "cell_type": "code",
      "source": [
        "customer_ids[qunatities>1].tolist()"
      ],
      "metadata": {
        "id": "pzxM5pk0aX3J",
        "outputId": "5088dbf8-8506-4f08-a11c-6e91edc2fb5f",
        "colab": {
          "base_uri": "https://localhost:8080/"
        }
      },
      "execution_count": null,
      "outputs": [
        {
          "output_type": "execute_result",
          "data": {
            "text/plain": [
              "[1002, 1004]"
            ]
          },
          "metadata": {},
          "execution_count": 39
        }
      ]
    },
    {
      "cell_type": "code",
      "source": [
        "np.sum(totals[customer_ids==1002])"
      ],
      "metadata": {
        "id": "w1qAERmGaX0c",
        "outputId": "30171a99-4878-4ad3-a4e4-13e8d3931875",
        "colab": {
          "base_uri": "https://localhost:8080/"
        }
      },
      "execution_count": null,
      "outputs": [
        {
          "output_type": "execute_result",
          "data": {
            "text/plain": [
              "np.int64(1000)"
            ]
          },
          "metadata": {},
          "execution_count": 40
        }
      ]
    },
    {
      "cell_type": "code",
      "source": [
        "products[prices>1000].tolist()"
      ],
      "metadata": {
        "id": "Asv9gtMGaXyK",
        "outputId": "54c52dca-585d-4662-f423-c8cb3922eedd",
        "colab": {
          "base_uri": "https://localhost:8080/"
        }
      },
      "execution_count": null,
      "outputs": [
        {
          "output_type": "execute_result",
          "data": {
            "text/plain": [
              "['Laptop', 'Momitor', 'Headphones']"
            ]
          },
          "metadata": {},
          "execution_count": 42
        }
      ]
    },
    {
      "cell_type": "code",
      "source": [
        "products[totals>=2000].tolist()"
      ],
      "metadata": {
        "id": "NEJxEJv0aXvu",
        "outputId": "faf9d764-275c-411d-c3fe-17e1cef3ee36",
        "colab": {
          "base_uri": "https://localhost:8080/"
        }
      },
      "execution_count": null,
      "outputs": [
        {
          "output_type": "execute_result",
          "data": {
            "text/plain": [
              "['Laptop', 'Momitor', 'Headphones']"
            ]
          },
          "metadata": {},
          "execution_count": 44
        }
      ]
    },
    {
      "cell_type": "code",
      "source": [],
      "metadata": {
        "id": "YPQ4ECf6aXtM"
      },
      "execution_count": null,
      "outputs": []
    }
  ],
  "metadata": {
    "colab": {
      "toc_visible": true,
      "provenance": []
    },
    "kernelspec": {
      "display_name": "Python 3",
      "name": "python3"
    }
  },
  "nbformat": 4,
  "nbformat_minor": 0
}