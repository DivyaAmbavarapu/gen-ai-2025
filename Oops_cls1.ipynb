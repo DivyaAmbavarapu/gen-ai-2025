{
  "nbformat": 4,
  "nbformat_minor": 0,
  "metadata": {
    "colab": {
      "provenance": []
    },
    "kernelspec": {
      "name": "python3",
      "display_name": "Python 3"
    },
    "language_info": {
      "name": "python"
    }
  },
  "cells": [
    {
      "cell_type": "code",
      "execution_count": null,
      "metadata": {
        "colab": {
          "base_uri": "https://localhost:8080/",
          "height": 35
        },
        "id": "8NjVXSsNy8Cg",
        "outputId": "3c24f3ca-9589-4e2e-d290-207a1e137bd8"
      },
      "outputs": [
        {
          "output_type": "execute_result",
          "data": {
            "text/plain": [
              "'hello test'"
            ],
            "application/vnd.google.colaboratory.intrinsic+json": {
              "type": "string"
            }
          },
          "metadata": {},
          "execution_count": 1
        }
      ],
      "source": [
        "class Name:\n",
        "  def greet(self):\n",
        "    return \"hello \"+self.name\n",
        "p1=Name()\n",
        "p1.name=\"test\"\n",
        "p1.greet()"
      ]
    },
    {
      "cell_type": "code",
      "source": [
        "class Name1:\n",
        "  def __init__(self,name):\n",
        "    self.x=name\n",
        "  def greet(self):\n",
        "    return \"hello \"+self.x"
      ],
      "metadata": {
        "id": "QyG5rE1mzDTO"
      },
      "execution_count": null,
      "outputs": []
    },
    {
      "cell_type": "code",
      "source": [
        "p1=Name1(\"Divya\")\n",
        "p1.greet()"
      ],
      "metadata": {
        "colab": {
          "base_uri": "https://localhost:8080/",
          "height": 35
        },
        "id": "Sw1Ju42xzDP3",
        "outputId": "b546c86d-070e-40dd-b725-86f6f44d7918"
      },
      "execution_count": null,
      "outputs": [
        {
          "output_type": "execute_result",
          "data": {
            "text/plain": [
              "'hello Divya'"
            ],
            "application/vnd.google.colaboratory.intrinsic+json": {
              "type": "string"
            }
          },
          "metadata": {},
          "execution_count": 3
        }
      ]
    },
    {
      "cell_type": "code",
      "source": [
        "class Marks:\n",
        "  def __init__(self,marks,attendance):\n",
        "    self.marks=marks\n",
        "    self.attendance=attendance\n",
        "  def grade(self):\n",
        "    if self.marks<35:\n",
        "      return \"fail\"\n",
        "    elif self.marks<60:\n",
        "      return \"3rd class\"\n",
        "    elif self.marks<90:\n",
        "      return \"first class\"\n",
        "  def attendance_grade(self):\n",
        "    if self.attendance<100:\n",
        "      return \"fail\"\n",
        "    elif self.attendance<200:\n",
        "      return \"pass\"\n",
        "\n",
        "student1=Marks(40,100)\n",
        "student1.attendance_grade()"
      ],
      "metadata": {
        "colab": {
          "base_uri": "https://localhost:8080/",
          "height": 35
        },
        "id": "nj2GbQ13zDNA",
        "outputId": "d4c50626-ee53-4d7c-844c-f94d008c8121"
      },
      "execution_count": null,
      "outputs": [
        {
          "output_type": "execute_result",
          "data": {
            "text/plain": [
              "'pass'"
            ],
            "application/vnd.google.colaboratory.intrinsic+json": {
              "type": "string"
            }
          },
          "metadata": {},
          "execution_count": 5
        }
      ]
    },
    {
      "cell_type": "code",
      "source": [
        "import math\n",
        "math.pi"
      ],
      "metadata": {
        "colab": {
          "base_uri": "https://localhost:8080/"
        },
        "id": "nS1sJL_zzDK4",
        "outputId": "00b589d2-162e-4aaa-8525-a11b146d6a15"
      },
      "execution_count": null,
      "outputs": [
        {
          "output_type": "execute_result",
          "data": {
            "text/plain": [
              "3.141592653589793"
            ]
          },
          "metadata": {},
          "execution_count": 6
        }
      ]
    },
    {
      "cell_type": "code",
      "source": [
        "class CircleProperties:\n",
        "  def __init__(self,r):\n",
        "    self.r=r\n",
        "  def area(self):\n",
        "    return math.pi*self.r*self.r\n",
        "  def circ(self):\n",
        "    return math.pi*2*self.r"
      ],
      "metadata": {
        "id": "_qIi-pPPzDHY"
      },
      "execution_count": null,
      "outputs": []
    },
    {
      "cell_type": "code",
      "source": [
        "object1=CircleProperties(20)\n",
        "object1.area()"
      ],
      "metadata": {
        "colab": {
          "base_uri": "https://localhost:8080/"
        },
        "id": "7HYfxToNzDEh",
        "outputId": "e735a7f2-9b3f-4934-f760-4be8ccda0caf"
      },
      "execution_count": null,
      "outputs": [
        {
          "output_type": "execute_result",
          "data": {
            "text/plain": [
              "1256.6370614359173"
            ]
          },
          "metadata": {},
          "execution_count": 8
        }
      ]
    },
    {
      "cell_type": "code",
      "source": [
        "object1=CircleProperties(20)\n",
        "object1.circ()"
      ],
      "metadata": {
        "colab": {
          "base_uri": "https://localhost:8080/"
        },
        "id": "jSeI0NNOzDCB",
        "outputId": "956dfab2-a735-44e9-aaa3-4ae9d707bf48"
      },
      "execution_count": null,
      "outputs": [
        {
          "output_type": "execute_result",
          "data": {
            "text/plain": [
              "125.66370614359172"
            ]
          },
          "metadata": {},
          "execution_count": 9
        }
      ]
    },
    {
      "cell_type": "code",
      "source": [
        "object1=CircleProperties(20)\n",
        "object1.circ()"
      ],
      "metadata": {
        "colab": {
          "base_uri": "https://localhost:8080/"
        },
        "id": "WdRnVFJJzC_O",
        "outputId": "0608a16e-070b-4555-86e7-9701002d1953"
      },
      "execution_count": null,
      "outputs": [
        {
          "output_type": "execute_result",
          "data": {
            "text/plain": [
              "125.66370614359172"
            ]
          },
          "metadata": {},
          "execution_count": 10
        }
      ]
    },
    {
      "cell_type": "code",
      "source": [
        "class Marks:\n",
        "  def __init__(self,marks,attendance):\n",
        "    self.marks=marks\n",
        "    self.attendance=attendance\n",
        "\n",
        "  def attendance_grade(self):\n",
        "    if self.attendance<100:\n",
        "      return \"fail\"\n",
        "    elif self.attendance<=200:\n",
        "      return \"pass\""
      ],
      "metadata": {
        "id": "-3OrVVoRzC9I"
      },
      "execution_count": null,
      "outputs": []
    },
    {
      "cell_type": "code",
      "source": [
        "student1=Marks(40,200)\n",
        "student1.attendance_grade()"
      ],
      "metadata": {
        "colab": {
          "base_uri": "https://localhost:8080/",
          "height": 35
        },
        "id": "XjDRps3OzC6A",
        "outputId": "3b87fd13-3041-4ef1-9dd2-0ee405342956"
      },
      "execution_count": null,
      "outputs": [
        {
          "output_type": "execute_result",
          "data": {
            "text/plain": [
              "'pass'"
            ],
            "application/vnd.google.colaboratory.intrinsic+json": {
              "type": "string"
            }
          },
          "metadata": {},
          "execution_count": 12
        }
      ]
    },
    {
      "cell_type": "code",
      "source": [
        "student1=Marks(40,200)\n",
        "student1.marks"
      ],
      "metadata": {
        "colab": {
          "base_uri": "https://localhost:8080/"
        },
        "id": "sd5fprBbzC3W",
        "outputId": "9e6958eb-25af-46fd-fce5-efb9b51d6115"
      },
      "execution_count": null,
      "outputs": [
        {
          "output_type": "execute_result",
          "data": {
            "text/plain": [
              "40"
            ]
          },
          "metadata": {},
          "execution_count": 13
        }
      ]
    },
    {
      "cell_type": "code",
      "source": [
        "student1=Marks(40,200)\n",
        "student1.attendance"
      ],
      "metadata": {
        "colab": {
          "base_uri": "https://localhost:8080/"
        },
        "id": "eSkGLdGWzC0p",
        "outputId": "e02e6651-2857-417f-d7f5-ea4a6284910d"
      },
      "execution_count": null,
      "outputs": [
        {
          "output_type": "execute_result",
          "data": {
            "text/plain": [
              "200"
            ]
          },
          "metadata": {},
          "execution_count": 14
        }
      ]
    },
    {
      "cell_type": "code",
      "source": [
        "class Rectangle:\n",
        "    def __init__(self, length, width):\n",
        "        self.length = length\n",
        "        self.width = width\n",
        "\n",
        "    def area(self):\n",
        "        return self.length * self.width\n",
        "\n",
        "    def perimeter(self):\n",
        "        return 2 * (self.length + self.width)\n",
        "\n",
        "    def display(self):\n",
        "        print(f\"{self.width} x {self.length}\")"
      ],
      "metadata": {
        "id": "raoA3x1l3_3a"
      },
      "execution_count": null,
      "outputs": []
    },
    {
      "cell_type": "code",
      "source": [
        "object1=Rectangle(30,60)\n",
        "object1.area()"
      ],
      "metadata": {
        "id": "qBwWx7QO5UVw",
        "colab": {
          "base_uri": "https://localhost:8080/"
        },
        "outputId": "ab4f45c9-447c-48cd-d38b-372c71f6d313"
      },
      "execution_count": 35,
      "outputs": [
        {
          "output_type": "execute_result",
          "data": {
            "text/plain": [
              "1800"
            ]
          },
          "metadata": {},
          "execution_count": 35
        }
      ]
    },
    {
      "cell_type": "code",
      "source": [
        "object1=Rectangle(30,60)\n",
        "object1.perimeter()"
      ],
      "metadata": {
        "colab": {
          "base_uri": "https://localhost:8080/"
        },
        "id": "jqicl05y-gUI",
        "outputId": "0f17e3dc-f68d-46f9-b258-7d33fed6fb77"
      },
      "execution_count": 36,
      "outputs": [
        {
          "output_type": "execute_result",
          "data": {
            "text/plain": [
              "180"
            ]
          },
          "metadata": {},
          "execution_count": 36
        }
      ]
    },
    {
      "cell_type": "code",
      "source": [
        "object1=Rectangle(30,60)\n",
        "object1.display()"
      ],
      "metadata": {
        "colab": {
          "base_uri": "https://localhost:8080/"
        },
        "id": "eNaOhDm3-gQl",
        "outputId": "17457a6b-66dc-4d8b-f562-7a11f4336f13"
      },
      "execution_count": 37,
      "outputs": [
        {
          "output_type": "stream",
          "name": "stdout",
          "text": [
            "60 x 30\n"
          ]
        }
      ]
    },
    {
      "cell_type": "code",
      "source": [
        "class CircleProperties:\n",
        "    def __init__(self, ___radius_____):\n",
        "        self.radius = ____r___\n",
        "\n",
        "    def area(self):\n",
        "        return 3.14 * __r______ ** 2\n",
        "\n",
        "    def circumference(self):\n",
        "        return 2 * 3.14 * self.__r______\n",
        "\n",
        "    def display(self):\n",
        "        print(\"Radius:\", self.__r______)"
      ],
      "metadata": {
        "id": "MuUtzW893_0H"
      },
      "execution_count": null,
      "outputs": []
    },
    {
      "cell_type": "code",
      "source": [
        "object1=CircleProperties(10)\n",
        "object1.area()"
      ],
      "metadata": {
        "colab": {
          "base_uri": "https://localhost:8080/"
        },
        "id": "myT7mWxr3_xB",
        "outputId": "409a3c94-6d05-4b20-e8f7-edc3648443fa"
      },
      "execution_count": 23,
      "outputs": [
        {
          "output_type": "execute_result",
          "data": {
            "text/plain": [
              "314.1592653589793"
            ]
          },
          "metadata": {},
          "execution_count": 23
        }
      ]
    },
    {
      "cell_type": "code",
      "source": [
        "object1=CircleProperties(10)\n",
        "object1.circ()"
      ],
      "metadata": {
        "colab": {
          "base_uri": "https://localhost:8080/"
        },
        "id": "3ZlC8ilp6sLb",
        "outputId": "64bef0ef-3917-4229-effe-0e1c0cef7364"
      },
      "execution_count": 27,
      "outputs": [
        {
          "output_type": "execute_result",
          "data": {
            "text/plain": [
              "62.83185307179586"
            ]
          },
          "metadata": {},
          "execution_count": 27
        }
      ]
    },
    {
      "cell_type": "code",
      "source": [
        "object1=CircleProperties(30)\n",
        "object1.r"
      ],
      "metadata": {
        "colab": {
          "base_uri": "https://localhost:8080/"
        },
        "id": "IZkxACd-6r8m",
        "outputId": "b0ea0f4a-16ef-401e-f47d-0cfb19b7bbc0"
      },
      "execution_count": 30,
      "outputs": [
        {
          "output_type": "execute_result",
          "data": {
            "text/plain": [
              "30"
            ]
          },
          "metadata": {},
          "execution_count": 30
        }
      ]
    },
    {
      "cell_type": "code",
      "source": [
        "class Student:\n",
        "    def __init__(self, name, marks):\n",
        "        self.name = name\n",
        "        self.marks = marks\n",
        "    def get_average(self):\n",
        "        return sum(self.marks) / len(self.marks)\n",
        "    def display(self):\n",
        "        print(f\"Name: {self.name}, Marks: {self.marks}\")"
      ],
      "metadata": {
        "id": "pA17Q5yg3_uX"
      },
      "execution_count": 41,
      "outputs": []
    },
    {
      "cell_type": "code",
      "source": [
        "object1=Student(\"divya\",[70,80,90])\n",
        "object1.display()\n",
        "print(object1.get_average())"
      ],
      "metadata": {
        "id": "WLV0uhmZ3_sP",
        "colab": {
          "base_uri": "https://localhost:8080/"
        },
        "outputId": "8a0a1d42-9829-4f23-e98f-2943753c6eb9"
      },
      "execution_count": 42,
      "outputs": [
        {
          "output_type": "stream",
          "name": "stdout",
          "text": [
            "Name: divya, Marks: [70, 80, 90]\n",
            "80.0\n"
          ]
        }
      ]
    },
    {
      "cell_type": "code",
      "source": [
        "class Car:\n",
        "    def __init__(self, brand, speed):\n",
        "        self.brand = brand\n",
        "        self.speed = speed\n",
        "\n",
        "    def accelerate(self):\n",
        "        self.speed +=20\n",
        "\n",
        "    def display(self):\n",
        "        print(f\"{self.brand} speed: {self.speed} km/h\")"
      ],
      "metadata": {
        "id": "GZ5jyK3x3_qI"
      },
      "execution_count": 47,
      "outputs": []
    },
    {
      "cell_type": "code",
      "source": [
        "object1=Car(\"Suzuki\",70)\n",
        "object1.accelerate()\n",
        "object1.display()\n"
      ],
      "metadata": {
        "id": "z-HtYlqk3_n9",
        "colab": {
          "base_uri": "https://localhost:8080/"
        },
        "outputId": "16f10f9a-aafd-4512-f37d-8f308f48d776"
      },
      "execution_count": 48,
      "outputs": [
        {
          "output_type": "stream",
          "name": "stdout",
          "text": [
            "Suzuki speed: 90 km/h\n"
          ]
        }
      ]
    },
    {
      "cell_type": "code",
      "source": [
        "class BankAccount:\n",
        "    def __init__(self, holder, balance):\n",
        "        self.holder = holder\n",
        "        self.balance = balance\n",
        "\n",
        "    def deposit(self, amount):\n",
        "        self.balance += amount # Changed to use the 'amount' parameter\n",
        "\n",
        "    def display(self):\n",
        "        print(f\"{self.holder} Balance: {self.balance}\") # Corrected attribute name to 'balance'"
      ],
      "metadata": {
        "id": "3PAgclu73_k7"
      },
      "execution_count": 64,
      "outputs": []
    },
    {
      "cell_type": "code",
      "source": [
        "object1=BankAccount(\"Divya\",1000)\n",
        "object1.deposit(1000)\n",
        "object1.display()"
      ],
      "metadata": {
        "colab": {
          "base_uri": "https://localhost:8080/"
        },
        "id": "ulF2yAvACKgX",
        "outputId": "270b134e-1b8b-4487-bcf7-41461e726dff"
      },
      "execution_count": 65,
      "outputs": [
        {
          "output_type": "stream",
          "name": "stdout",
          "text": [
            "Divya Balance: 2000\n"
          ]
        }
      ]
    },
    {
      "cell_type": "code",
      "source": [
        "class Book:\n",
        "    def __init__(self, title, author):\n",
        "        self.title = title\n",
        "        self.author = author\n",
        "\n",
        "    def display(self):\n",
        "        print(f\"{self.title} by {self.author}\")\n",
        "\n",
        "    def get_author(self):\n",
        "        return self.author"
      ],
      "metadata": {
        "id": "gQZGXXOi3_ht"
      },
      "execution_count": 61,
      "outputs": []
    },
    {
      "cell_type": "code",
      "source": [
        "book1=Book(\"shinchan\",\"Divya\")\n",
        "book1.get_author()\n",
        "book1.display()"
      ],
      "metadata": {
        "colab": {
          "base_uri": "https://localhost:8080/"
        },
        "id": "Vi1u8oAfEvnc",
        "outputId": "4eb7b362-abf7-4ce9-d212-05201cf108d0"
      },
      "execution_count": 66,
      "outputs": [
        {
          "output_type": "stream",
          "name": "stdout",
          "text": [
            "shinchan by Divya\n"
          ]
        }
      ]
    },
    {
      "cell_type": "code",
      "source": [
        "class Temperature:\n",
        "    def __init__(self, celsius):\n",
        "        self.celsius = celsius\n",
        "\n",
        "    def to_fahrenheit(self):\n",
        "        return (self.celsius * 9/5) + 70\n",
        "\n",
        "    def display(self):\n",
        "        print(f\"{self.celsius}°C\")"
      ],
      "metadata": {
        "id": "1sbM8vKEAhfd"
      },
      "execution_count": 67,
      "outputs": []
    },
    {
      "cell_type": "code",
      "source": [
        "temp1=Temperature(30)\n",
        "temp1.to_fahrenheit()\n",
        "temp1.display()"
      ],
      "metadata": {
        "colab": {
          "base_uri": "https://localhost:8080/"
        },
        "id": "-x10OBHPAhbP",
        "outputId": "bd42f536-c7ac-43de-f7e7-fbe9c78ac173"
      },
      "execution_count": 69,
      "outputs": [
        {
          "output_type": "stream",
          "name": "stdout",
          "text": [
            "30°C\n"
          ]
        }
      ]
    },
    {
      "cell_type": "code",
      "source": [],
      "metadata": {
        "id": "eixeaSWVAhXt"
      },
      "execution_count": null,
      "outputs": []
    }
  ]
}