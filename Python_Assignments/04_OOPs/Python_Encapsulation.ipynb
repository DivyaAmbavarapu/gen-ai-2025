{
  "nbformat": 4,
  "nbformat_minor": 0,
  "metadata": {
    "colab": {
      "provenance": []
    },
    "kernelspec": {
      "name": "python3",
      "display_name": "Python 3"
    },
    "language_info": {
      "name": "python"
    }
  },
  "cells": [
    {
      "cell_type": "code",
      "execution_count": 2,
      "metadata": {
        "colab": {
          "base_uri": "https://localhost:8080/",
          "height": 0
        },
        "id": "cN0apyDYsJLx",
        "outputId": "8246464f-270e-4c6f-bef3-abb5039c19b4"
      },
      "outputs": [
        {
          "output_type": "stream",
          "name": "stdout",
          "text": [
            "Suzuki\n"
          ]
        }
      ],
      "source": [
        "class Car:\n",
        "    def __init__(self):\n",
        "        self.brand = \"Suzuki\"\n",
        "\n",
        "c = Car()\n",
        "print(c.brand)"
      ]
    },
    {
      "cell_type": "code",
      "source": [
        "class Laptop:\n",
        "    def __init__(self):\n",
        "        self.ram = \"16GB\"\n",
        "\n",
        "l = Laptop()\n",
        "print(l.ram)"
      ],
      "metadata": {
        "colab": {
          "base_uri": "https://localhost:8080/",
          "height": 0
        },
        "id": "OxtvyrIfsKqF",
        "outputId": "8f7c930d-d869-4af0-c584-3cf3957b17a5"
      },
      "execution_count": 3,
      "outputs": [
        {
          "output_type": "stream",
          "name": "stdout",
          "text": [
            "16GB\n"
          ]
        }
      ]
    },
    {
      "cell_type": "code",
      "source": [
        "class Employee:\n",
        "    def __init__(self):\n",
        "        self._salary = 50000\n",
        "\n",
        "e = Employee()\n",
        "print(e._salary)"
      ],
      "metadata": {
        "colab": {
          "base_uri": "https://localhost:8080/",
          "height": 0
        },
        "id": "wnGZjhtlsKmt",
        "outputId": "167aaa18-558b-40f7-bdae-d5889015d2bc"
      },
      "execution_count": 4,
      "outputs": [
        {
          "output_type": "stream",
          "name": "stdout",
          "text": [
            "50000\n"
          ]
        }
      ]
    },
    {
      "cell_type": "code",
      "source": [
        "class Doctor:\n",
        "    def __init__(self):\n",
        "        self._license_number = \"MED12345\"\n",
        "\n",
        "d = Doctor()\n",
        "print(d._license_number)"
      ],
      "metadata": {
        "colab": {
          "base_uri": "https://localhost:8080/",
          "height": 0
        },
        "id": "nokkBltosKkC",
        "outputId": "91fbfe15-aac8-491b-b7d0-fa839f8d7db5"
      },
      "execution_count": 5,
      "outputs": [
        {
          "output_type": "stream",
          "name": "stdout",
          "text": [
            "MED12345\n"
          ]
        }
      ]
    },
    {
      "cell_type": "code",
      "source": [
        "class Employee:\n",
        "    def __init__(self):\n",
        "        self._salary = 65000\n",
        "\n",
        "e = Employee()"
      ],
      "metadata": {
        "id": "ixHRhvSIsKh-"
      },
      "execution_count": 8,
      "outputs": []
    },
    {
      "cell_type": "code",
      "source": [
        "e._salary"
      ],
      "metadata": {
        "colab": {
          "base_uri": "https://localhost:8080/",
          "height": 0
        },
        "id": "AfSJ5Q1vsKe8",
        "outputId": "5a2bb81e-6f72-4d41-c225-94581bc04906"
      },
      "execution_count": 9,
      "outputs": [
        {
          "output_type": "execute_result",
          "data": {
            "text/plain": [
              "65000"
            ]
          },
          "metadata": {},
          "execution_count": 9
        }
      ]
    },
    {
      "cell_type": "code",
      "source": [
        "class Laptop:\n",
        "    def __init__(self):\n",
        "        self.__serial_number = \"SN-987654\"\n",
        "\n",
        "l = Laptop()\n",
        "l.__serial_number"
      ],
      "metadata": {
        "colab": {
          "base_uri": "https://localhost:8080/",
          "height": 176
        },
        "id": "Y0xs05FIsKcZ",
        "outputId": "a3d90e12-1137-4b5e-a7ec-97f63cf036c4"
      },
      "execution_count": 10,
      "outputs": [
        {
          "output_type": "error",
          "ename": "AttributeError",
          "evalue": "'Laptop' object has no attribute '__serial_number'",
          "traceback": [
            "\u001b[0;31m---------------------------------------------------------------------------\u001b[0m",
            "\u001b[0;31mAttributeError\u001b[0m                            Traceback (most recent call last)",
            "\u001b[0;32m/tmp/ipython-input-10-249096993.py\u001b[0m in \u001b[0;36m<cell line: 0>\u001b[0;34m()\u001b[0m\n\u001b[1;32m      4\u001b[0m \u001b[0;34m\u001b[0m\u001b[0m\n\u001b[1;32m      5\u001b[0m \u001b[0ml\u001b[0m \u001b[0;34m=\u001b[0m \u001b[0mLaptop\u001b[0m\u001b[0;34m(\u001b[0m\u001b[0;34m)\u001b[0m\u001b[0;34m\u001b[0m\u001b[0;34m\u001b[0m\u001b[0m\n\u001b[0;32m----> 6\u001b[0;31m \u001b[0ml\u001b[0m\u001b[0;34m.\u001b[0m\u001b[0m__serial_number\u001b[0m\u001b[0;34m\u001b[0m\u001b[0;34m\u001b[0m\u001b[0m\n\u001b[0m",
            "\u001b[0;31mAttributeError\u001b[0m: 'Laptop' object has no attribute '__serial_number'"
          ]
        }
      ]
    },
    {
      "cell_type": "code",
      "source": [
        "class BankAccount:\n",
        "    def __init__(self, holder_name, balance, pin):\n",
        "        self._holder_name = holder_name          # protected\n",
        "        self.__balance = balance                 # private\n",
        "        self.__pin = pin                         # private\n",
        "\n",
        "    def deposit(self, amount):\n",
        "        if amount > 0:\n",
        "            self.__balance += amount\n",
        "    def withdraw(self, amount, pin):\n",
        "        if pin == self.__pin and amount <= self.__balance:\n",
        "            self.__balance -= amount\n",
        "            return amount\n",
        "        else:\n",
        "            return \"Invalid pin or insufficient funds\"\n",
        "\n",
        "    def get_balance(self, pin):\n",
        "        return self.__balance if pin == self.__pin else \"Access Denied\""
      ],
      "metadata": {
        "id": "40uU0fngsKZ9"
      },
      "execution_count": 11,
      "outputs": []
    },
    {
      "cell_type": "code",
      "source": [
        "object1=BankAccount(\"Student1\",5000,1000)\n",
        "object1._holder_name"
      ],
      "metadata": {
        "colab": {
          "base_uri": "https://localhost:8080/",
          "height": 35
        },
        "id": "jOOYabccsKXn",
        "outputId": "088c4955-77a3-4f45-fea3-af410e37a2ed"
      },
      "execution_count": 12,
      "outputs": [
        {
          "output_type": "execute_result",
          "data": {
            "text/plain": [
              "'Student1'"
            ],
            "application/vnd.google.colaboratory.intrinsic+json": {
              "type": "string"
            }
          },
          "metadata": {},
          "execution_count": 12
        }
      ]
    },
    {
      "cell_type": "code",
      "source": [
        "object1.get_balance(1000)"
      ],
      "metadata": {
        "colab": {
          "base_uri": "https://localhost:8080/",
          "height": 0
        },
        "id": "ahTpdFpasKUh",
        "outputId": "f8af07f1-56c1-48c2-ba19-59a952a29518"
      },
      "execution_count": 13,
      "outputs": [
        {
          "output_type": "execute_result",
          "data": {
            "text/plain": [
              "5000"
            ]
          },
          "metadata": {},
          "execution_count": 13
        }
      ]
    },
    {
      "cell_type": "code",
      "source": [
        "object1.deposit(300)"
      ],
      "metadata": {
        "id": "Lr8Pd60_sKR5"
      },
      "execution_count": 14,
      "outputs": []
    },
    {
      "cell_type": "code",
      "source": [
        "object1.get_balance(1000)"
      ],
      "metadata": {
        "colab": {
          "base_uri": "https://localhost:8080/",
          "height": 0
        },
        "id": "uK4QD7IlsKPX",
        "outputId": "388d086b-907a-4987-b624-0f3fe01e4f59"
      },
      "execution_count": 15,
      "outputs": [
        {
          "output_type": "execute_result",
          "data": {
            "text/plain": [
              "5300"
            ]
          },
          "metadata": {},
          "execution_count": 15
        }
      ]
    },
    {
      "cell_type": "code",
      "source": [
        "class Student:\n",
        "    def __init__(self, name):\n",
        "        self._name = name                     # protected\n",
        "        self.__grades = {}                    # private dictionary\n",
        "\n",
        "    def add_grade(self, subject, grade):\n",
        "        self.__grades[subject] = grade\n",
        "\n",
        "    def _average(self):                       # protected method\n",
        "        return sum(self.__grades.values()) / len(self.__grades)\n",
        "\n",
        "    def get_report(self):\n",
        "        return f\"Student: {self._name}, Average: {self._average()}\"\n",
        "\n",
        "object1=Student(\"Student1\")\n",
        "object1.add_grade(\"science\",90)\n",
        "object1.add_grade(\"maths\",80)\n",
        "object1.add_grade(\"computers\",80)\n",
        "object1.get_report()"
      ],
      "metadata": {
        "colab": {
          "base_uri": "https://localhost:8080/",
          "height": 35
        },
        "id": "WCjyRkKYsKM6",
        "outputId": "897caad0-adb3-4d3e-d777-48a6a5d7a925"
      },
      "execution_count": 17,
      "outputs": [
        {
          "output_type": "execute_result",
          "data": {
            "text/plain": [
              "'Student: Student1, Average: 83.33333333333333'"
            ],
            "application/vnd.google.colaboratory.intrinsic+json": {
              "type": "string"
            }
          },
          "metadata": {},
          "execution_count": 17
        }
      ]
    },
    {
      "cell_type": "code",
      "source": [
        "class Student:\n",
        "    def __init__(self, name):\n",
        "        self._name = name                     # protected\n",
        "        self._grades = {}                    # private dictionary\n",
        "\n",
        "    def add_grade(self, subject, grade):\n",
        "        self._grades[subject] = grade\n",
        "\n",
        "    def _average(self):                       # protected method\n",
        "        return sum(self._grades.values()) / len(self._grades)\n",
        "\n",
        "    def get_report(self):\n",
        "        return f\"Student: {self._name}, Average: {self._average()}\"\n",
        "\n",
        "object1=Student(\"Student1\")\n",
        "object1=Student(\"Student2\")\n",
        "object1.add_grade(\"science\",80)\n",
        "object1.add_grade(\"maths\",80)\n",
        "object1.add_grade(\"computers\",80)\n",
        "object1.add_grade(\"science1\",40)\n",
        "object1.add_grade(\"maths1\",20)\n",
        "object1.add_grade(\"computers1\",80)\n",
        "object1.get_report()\n",
        "object1._grades"
      ],
      "metadata": {
        "colab": {
          "base_uri": "https://localhost:8080/",
          "height": 0
        },
        "id": "QJQiLWwVtWlU",
        "outputId": "a88a9f78-7217-42a4-f65d-ca3ac9649345"
      },
      "execution_count": 19,
      "outputs": [
        {
          "output_type": "execute_result",
          "data": {
            "text/plain": [
              "{'science': 80,\n",
              " 'maths': 80,\n",
              " 'computers': 80,\n",
              " 'science1': 40,\n",
              " 'maths1': 20,\n",
              " 'computers1': 80}"
            ]
          },
          "metadata": {},
          "execution_count": 19
        }
      ]
    },
    {
      "cell_type": "code",
      "source": [
        "object1=Payment()"
      ],
      "metadata": {
        "colab": {
          "base_uri": "https://localhost:8080/",
          "height": 141
        },
        "id": "dLZbFiMntWh3",
        "outputId": "4363c63b-6af9-4225-8820-a31a99c7a0ed"
      },
      "execution_count": 20,
      "outputs": [
        {
          "output_type": "error",
          "ename": "NameError",
          "evalue": "name 'Payment' is not defined",
          "traceback": [
            "\u001b[0;31m---------------------------------------------------------------------------\u001b[0m",
            "\u001b[0;31mNameError\u001b[0m                                 Traceback (most recent call last)",
            "\u001b[0;32m/tmp/ipython-input-20-2085804020.py\u001b[0m in \u001b[0;36m<cell line: 0>\u001b[0;34m()\u001b[0m\n\u001b[0;32m----> 1\u001b[0;31m \u001b[0mobject1\u001b[0m\u001b[0;34m=\u001b[0m\u001b[0mPayment\u001b[0m\u001b[0;34m(\u001b[0m\u001b[0;34m)\u001b[0m\u001b[0;34m\u001b[0m\u001b[0;34m\u001b[0m\u001b[0m\n\u001b[0m",
            "\u001b[0;31mNameError\u001b[0m: name 'Payment' is not defined"
          ]
        }
      ]
    },
    {
      "cell_type": "code",
      "source": [
        "from abc import ABC, abstractmethod\n",
        "\n",
        "class Payment(ABC):\n",
        "    @abstractmethod\n",
        "    def pay(self, amount,interest):\n",
        "        pass\n",
        "\n",
        "class CreditCard(Payment):\n",
        "    def pay(self, amount):\n",
        "        print(f\"Paid ₹{amount} using Credit Card\")\n",
        "\n",
        "class UPI(Payment):\n",
        "    def pay(self, amount):\n",
        "        print(f\"Paid ₹{amount} using UPI\")"
      ],
      "metadata": {
        "id": "oip1EpGntWfB"
      },
      "execution_count": 21,
      "outputs": []
    },
    {
      "cell_type": "code",
      "source": [
        "p1 = CreditCard()\n",
        "p1.pay(6000)\n",
        "\n",
        "p2 = UPI()\n",
        "p2.pay(5000)"
      ],
      "metadata": {
        "colab": {
          "base_uri": "https://localhost:8080/",
          "height": 0
        },
        "id": "dIqrTZeVtWdJ",
        "outputId": "dec5c75e-53a0-4400-ef43-e407ecf0ee76"
      },
      "execution_count": 22,
      "outputs": [
        {
          "output_type": "stream",
          "name": "stdout",
          "text": [
            "Paid ₹6000 using Credit Card\n",
            "Paid ₹5000 using UPI\n"
          ]
        }
      ]
    },
    {
      "cell_type": "code",
      "source": [
        "try :\n",
        "  print(2+\"3\")\n",
        "except:\n",
        "  print(\"test\")"
      ],
      "metadata": {
        "colab": {
          "base_uri": "https://localhost:8080/",
          "height": 0
        },
        "id": "aR3IjXk-tWbP",
        "outputId": "3d12c744-0db7-4cf5-d5ca-006bd09f779e"
      },
      "execution_count": 23,
      "outputs": [
        {
          "output_type": "stream",
          "name": "stdout",
          "text": [
            "test\n"
          ]
        }
      ]
    },
    {
      "cell_type": "code",
      "source": [
        "try:\n",
        "    result = 10 / 0\n",
        "except ZeroDivisionError:\n",
        "    print(\"Cannot divide by zero!\")"
      ],
      "metadata": {
        "colab": {
          "base_uri": "https://localhost:8080/",
          "height": 0
        },
        "id": "JeiJOI1wtWZj",
        "outputId": "b59a93d2-c0d8-4042-f73d-9d0f9f902f30"
      },
      "execution_count": 24,
      "outputs": [
        {
          "output_type": "stream",
          "name": "stdout",
          "text": [
            "Cannot divide by zero!\n"
          ]
        }
      ]
    },
    {
      "cell_type": "code",
      "source": [
        "try:\n",
        "    with open(\"/content/sample1.txt\", \"r\") as f:\n",
        "        content = f.read()\n",
        "        print(content)\n",
        "except FileNotFoundError:\n",
        "    print(\"File not found.\")"
      ],
      "metadata": {
        "colab": {
          "base_uri": "https://localhost:8080/",
          "height": 0
        },
        "id": "LbzqcjrutWWO",
        "outputId": "7fd8b6f9-b1b2-4591-c8a3-b7134c45719d"
      },
      "execution_count": 25,
      "outputs": [
        {
          "output_type": "stream",
          "name": "stdout",
          "text": [
            "File not found.\n"
          ]
        }
      ]
    },
    {
      "cell_type": "code",
      "source": [
        "try:\n",
        "    number = float(\"abc\")\n",
        "    print(number)\n",
        "except ValueError:\n",
        "    print(\"Invalid number format.\")"
      ],
      "metadata": {
        "colab": {
          "base_uri": "https://localhost:8080/",
          "height": 0
        },
        "id": "vVlnxcWPtWSv",
        "outputId": "f4beb7a6-6ad1-4970-c2bb-f20688dedc84"
      },
      "execution_count": 26,
      "outputs": [
        {
          "output_type": "stream",
          "name": "stdout",
          "text": [
            "Invalid number format.\n"
          ]
        }
      ]
    },
    {
      "cell_type": "code",
      "source": [
        "try:\n",
        "    items = [1, 2, 3]\n",
        "    print(items[1])\n",
        "except IndexError:\n",
        "    print(\"Index out of range.\")"
      ],
      "metadata": {
        "colab": {
          "base_uri": "https://localhost:8080/",
          "height": 0
        },
        "id": "rnBPq5qxuPpJ",
        "outputId": "e9125cd6-c6c4-483f-aa99-843dd62d9800"
      },
      "execution_count": 29,
      "outputs": [
        {
          "output_type": "stream",
          "name": "stdout",
          "text": [
            "2\n"
          ]
        }
      ]
    },
    {
      "cell_type": "code",
      "source": [
        "try:\n",
        "    items = [1, 2, 3]\n",
        "    print(items[5])\n",
        "except IndexError:\n",
        "    print(\"Index out of range.\")"
      ],
      "metadata": {
        "colab": {
          "base_uri": "https://localhost:8080/",
          "height": 0
        },
        "id": "5nmZyxuluPn3",
        "outputId": "b0030478-132f-485a-d418-d76f85422aa7"
      },
      "execution_count": 30,
      "outputs": [
        {
          "output_type": "stream",
          "name": "stdout",
          "text": [
            "Index out of range.\n"
          ]
        }
      ]
    },
    {
      "cell_type": "code",
      "source": [
        "try:\n",
        "    x = 5\n",
        "    x.append(2)\n",
        "except AttributeError:\n",
        "    print(\"Invalid attribute for the object.\")"
      ],
      "metadata": {
        "colab": {
          "base_uri": "https://localhost:8080/",
          "height": 0
        },
        "id": "4wlRHkhYuPij",
        "outputId": "f1727483-b635-478a-8a93-4aed97f4b8a5"
      },
      "execution_count": 32,
      "outputs": [
        {
          "output_type": "stream",
          "name": "stdout",
          "text": [
            "Invalid attribute for the object.\n"
          ]
        }
      ]
    },
    {
      "cell_type": "code",
      "source": [
        "try:\n",
        "    value = int(\"abc\")\n",
        "    result = 10 / 0\n",
        "except (ValueError, ZeroDivisionError) as e:\n",
        "    print(\"Caught an error:\", e)"
      ],
      "metadata": {
        "colab": {
          "base_uri": "https://localhost:8080/",
          "height": 0
        },
        "id": "5JcW5vctuPe_",
        "outputId": "675a1e89-a07d-44bc-cc17-4481f429d2f5"
      },
      "execution_count": 33,
      "outputs": [
        {
          "output_type": "stream",
          "name": "stdout",
          "text": [
            "Caught an error: invalid literal for int() with base 10: 'abc'\n"
          ]
        }
      ]
    },
    {
      "cell_type": "code",
      "source": [
        "try:\n",
        "    number = int(\"100\")\n",
        "except ValueError:\n",
        "    print(\"Conversion failed.\")\n",
        "else:\n",
        "    print(\"Conversion successful:\", number)"
      ],
      "metadata": {
        "colab": {
          "base_uri": "https://localhost:8080/",
          "height": 0
        },
        "id": "O8mjH5eZuPa5",
        "outputId": "31b57a4d-5762-40bb-acd2-2df53b0f56a3"
      },
      "execution_count": 34,
      "outputs": [
        {
          "output_type": "stream",
          "name": "stdout",
          "text": [
            "Conversion successful: 100\n"
          ]
        }
      ]
    },
    {
      "cell_type": "code",
      "source": [
        "try:\n",
        "    f = open(\"sample.txt\", \"r\")\n",
        "    data = f.read()\n",
        "except FileNotFoundError:\n",
        "    print(\"File not found.\")\n",
        "finally:\n",
        "    print(\"Execution complete.\")"
      ],
      "metadata": {
        "colab": {
          "base_uri": "https://localhost:8080/",
          "height": 0
        },
        "id": "gIqCYdvuuPXC",
        "outputId": "c0e87c40-b7a7-4c49-a5a9-ca7903b59806"
      },
      "execution_count": 35,
      "outputs": [
        {
          "output_type": "stream",
          "name": "stdout",
          "text": [
            "File not found.\n",
            "Execution complete.\n"
          ]
        }
      ]
    },
    {
      "cell_type": "code",
      "source": [
        "try:\n",
        "    result = 10 / 0\n",
        "except ZeroDivisionError:\n",
        "    print(\"Divide by zero error\")\n",
        "else:\n",
        "    print(\"Result:\", result)\n",
        "finally:\n",
        "    print(\"Done with division\")"
      ],
      "metadata": {
        "colab": {
          "base_uri": "https://localhost:8080/",
          "height": 0
        },
        "id": "zDI1XJvUuPTr",
        "outputId": "df7ad4a7-16c9-47d3-bba1-c7feae6a0525"
      },
      "execution_count": 36,
      "outputs": [
        {
          "output_type": "stream",
          "name": "stdout",
          "text": [
            "Divide by zero error\n",
            "Done with division\n"
          ]
        }
      ]
    },
    {
      "cell_type": "code",
      "source": [
        "try:\n",
        "    lst = [1, 2]\n",
        "    print(lst[5])\n",
        "except IndexError:\n",
        "    print(\"Index out of range\")\n",
        "else:\n",
        "    print(\"List item accessed\")\n",
        "finally:\n",
        "    print(\"List operation done\")"
      ],
      "metadata": {
        "colab": {
          "base_uri": "https://localhost:8080/",
          "height": 0
        },
        "id": "a_Z0ff6WuPRT",
        "outputId": "eae7226d-d70b-4001-ecf8-718b50bf3321"
      },
      "execution_count": 37,
      "outputs": [
        {
          "output_type": "stream",
          "name": "stdout",
          "text": [
            "Index out of range\n",
            "List operation done\n"
          ]
        }
      ]
    },
    {
      "cell_type": "code",
      "source": [
        "try:\n",
        "    data = [[1, 2], [3, 4], \"invalid\"]\n",
        "    for sublist in data:\n",
        "        for item in sublist:\n",
        "            print(item * 2)\n",
        "except TypeError as e:\n",
        "    print(\"Type Error:\", e)\n",
        "else:\n",
        "    print(\"Nested list processed\")\n",
        "finally:\n",
        "    print(\"List handling complete\")"
      ],
      "metadata": {
        "colab": {
          "base_uri": "https://localhost:8080/",
          "height": 0
        },
        "id": "HHZKNT6twB5s",
        "outputId": "2a953b09-a89e-4b17-dbe7-b83994988171"
      },
      "execution_count": 38,
      "outputs": [
        {
          "output_type": "stream",
          "name": "stdout",
          "text": [
            "2\n",
            "4\n",
            "6\n",
            "8\n",
            "ii\n",
            "nn\n",
            "vv\n",
            "aa\n",
            "ll\n",
            "ii\n",
            "dd\n",
            "Nested list processed\n",
            "List handling complete\n"
          ]
        }
      ]
    },
    {
      "cell_type": "code",
      "source": [
        "try:\n",
        "    a = {1, 2, 3}\n",
        "    b = \"abc\"\n",
        "    result = a | b  # Unsupported operand types\n",
        "except TypeError as e:\n",
        "    print(\"Set union error:\", e)\n",
        "else:\n",
        "    print(\"Set union successful\")\n",
        "finally:\n",
        "    print(\"Set operation done\")"
      ],
      "metadata": {
        "colab": {
          "base_uri": "https://localhost:8080/",
          "height": 0
        },
        "id": "dlJIw2jDwB2T",
        "outputId": "c6450119-ef74-4743-d2b8-a4409668a50c"
      },
      "execution_count": 39,
      "outputs": [
        {
          "output_type": "stream",
          "name": "stdout",
          "text": [
            "Set union error: unsupported operand type(s) for |: 'set' and 'str'\n",
            "Set operation done\n"
          ]
        }
      ]
    },
    {
      "cell_type": "code",
      "source": [
        "try:\n",
        "    a = {1, 2, 3}\n",
        "    b = \"abc\"\n",
        "    result = a | b  # Unsupported operand types\n",
        "except TypeError as e:\n",
        "    print(\"Set union error:\", e)\n",
        "else:\n",
        "    print(\"Set union successful\")\n",
        "finally:\n",
        "    print(\"Set operation done\")"
      ],
      "metadata": {
        "colab": {
          "base_uri": "https://localhost:8080/",
          "height": 0
        },
        "id": "HAeKwsPUwByp",
        "outputId": "c5967e9c-e0fa-41be-e999-7a8a3be02ff1"
      },
      "execution_count": 40,
      "outputs": [
        {
          "output_type": "stream",
          "name": "stdout",
          "text": [
            "Set union error: unsupported operand type(s) for |: 'set' and 'str'\n",
            "Set operation done\n"
          ]
        }
      ]
    },
    {
      "cell_type": "code",
      "source": [],
      "metadata": {
        "id": "R5yPMrWBwBwM"
      },
      "execution_count": null,
      "outputs": []
    },
    {
      "cell_type": "code",
      "source": [],
      "metadata": {
        "id": "TsrRN98twBuO"
      },
      "execution_count": null,
      "outputs": []
    },
    {
      "cell_type": "code",
      "source": [],
      "metadata": {
        "id": "NxJ0oz41wBqx"
      },
      "execution_count": null,
      "outputs": []
    }
  ]
}