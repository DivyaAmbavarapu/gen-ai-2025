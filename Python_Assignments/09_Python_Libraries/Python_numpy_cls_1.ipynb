{
  "cells": [
    {
      "cell_type": "code",
      "source": [
        "import numpy as np"
      ],
      "metadata": {
        "id": "sO_3AOWJc--h"
      },
      "execution_count": null,
      "outputs": []
    },
    {
      "cell_type": "code",
      "source": [
        "data=np.random.randint(0,10,(3,3))"
      ],
      "metadata": {
        "id": "GC7AmglAc-7i"
      },
      "execution_count": null,
      "outputs": []
    },
    {
      "cell_type": "code",
      "source": [
        "data"
      ],
      "metadata": {
        "id": "P0YP3Bxtc-16",
        "outputId": "f2eb8860-e598-4ed7-e686-fce1ca4ce6da",
        "colab": {
          "base_uri": "https://localhost:8080/"
        }
      },
      "execution_count": null,
      "outputs": [
        {
          "output_type": "execute_result",
          "data": {
            "text/plain": [
              "array([[1, 2, 3],\n",
              "       [2, 3, 1],\n",
              "       [8, 8, 6]])"
            ]
          },
          "metadata": {},
          "execution_count": 86
        }
      ]
    },
    {
      "cell_type": "code",
      "source": [
        "data.sum()"
      ],
      "metadata": {
        "id": "q8VS5nOCc-v7",
        "outputId": "c76c2d17-d06c-4ab2-dbd9-a861c7aa048b",
        "colab": {
          "base_uri": "https://localhost:8080/"
        }
      },
      "execution_count": null,
      "outputs": [
        {
          "output_type": "execute_result",
          "data": {
            "text/plain": [
              "np.int64(34)"
            ]
          },
          "metadata": {},
          "execution_count": 87
        }
      ]
    },
    {
      "cell_type": "code",
      "source": [
        "data.sum(axis=1)"
      ],
      "metadata": {
        "id": "OrMWb7jAc-sW",
        "outputId": "c35daccf-9364-49aa-9bc9-23ab542bf99f",
        "colab": {
          "base_uri": "https://localhost:8080/"
        }
      },
      "execution_count": null,
      "outputs": [
        {
          "output_type": "execute_result",
          "data": {
            "text/plain": [
              "array([ 6,  6, 22])"
            ]
          },
          "metadata": {},
          "execution_count": 88
        }
      ]
    },
    {
      "cell_type": "code",
      "source": [
        "data.sum(axis=0)"
      ],
      "metadata": {
        "id": "KYyqM8pFc-o1",
        "outputId": "ac1798ee-2497-43df-ddd7-cccbf16497e7",
        "colab": {
          "base_uri": "https://localhost:8080/"
        }
      },
      "execution_count": null,
      "outputs": [
        {
          "output_type": "execute_result",
          "data": {
            "text/plain": [
              "array([11, 13, 10])"
            ]
          },
          "metadata": {},
          "execution_count": 89
        }
      ]
    },
    {
      "cell_type": "code",
      "source": [
        "data.max()"
      ],
      "metadata": {
        "id": "TAgJTdKRc-hE",
        "outputId": "3fd57f9a-14d5-4746-8240-361b3fa9d593",
        "colab": {
          "base_uri": "https://localhost:8080/"
        }
      },
      "execution_count": null,
      "outputs": [
        {
          "output_type": "execute_result",
          "data": {
            "text/plain": [
              "np.int64(8)"
            ]
          },
          "metadata": {},
          "execution_count": 90
        }
      ]
    },
    {
      "cell_type": "code",
      "source": [
        "data.max(axis=1)"
      ],
      "metadata": {
        "id": "Ji-MVS32c-bf",
        "outputId": "ea6da44b-bd9b-423e-af0f-7477212f637a",
        "colab": {
          "base_uri": "https://localhost:8080/"
        }
      },
      "execution_count": null,
      "outputs": [
        {
          "output_type": "execute_result",
          "data": {
            "text/plain": [
              "array([3, 3, 8])"
            ]
          },
          "metadata": {},
          "execution_count": 91
        }
      ]
    },
    {
      "cell_type": "code",
      "source": [
        "data.max(axis=0)"
      ],
      "metadata": {
        "id": "830SNhl7c-Tz",
        "outputId": "22369347-8efa-4931-8c9c-bc3e83b29b23",
        "colab": {
          "base_uri": "https://localhost:8080/"
        }
      },
      "execution_count": null,
      "outputs": [
        {
          "output_type": "execute_result",
          "data": {
            "text/plain": [
              "array([8, 8, 6])"
            ]
          },
          "metadata": {},
          "execution_count": 92
        }
      ]
    },
    {
      "cell_type": "code",
      "source": [
        "data.min(axis=1)"
      ],
      "metadata": {
        "id": "q7iHz_3uc-Qz",
        "outputId": "b7057fa4-5f98-4298-ebfc-fdd502ace33b",
        "colab": {
          "base_uri": "https://localhost:8080/"
        }
      },
      "execution_count": null,
      "outputs": [
        {
          "output_type": "execute_result",
          "data": {
            "text/plain": [
              "array([1, 1, 6])"
            ]
          },
          "metadata": {},
          "execution_count": 93
        }
      ]
    },
    {
      "cell_type": "code",
      "source": [
        "data"
      ],
      "metadata": {
        "id": "MLXgZHjKoBC_",
        "outputId": "3fe5f479-63d6-4045-b745-83e231c7af99",
        "colab": {
          "base_uri": "https://localhost:8080/"
        }
      },
      "execution_count": null,
      "outputs": [
        {
          "output_type": "execute_result",
          "data": {
            "text/plain": [
              "array([[1, 2, 3],\n",
              "       [2, 3, 1],\n",
              "       [8, 8, 6]])"
            ]
          },
          "metadata": {},
          "execution_count": 96
        }
      ]
    },
    {
      "cell_type": "code",
      "source": [
        "data.min(axis=0)"
      ],
      "metadata": {
        "id": "rkTgz2gxe4bp",
        "outputId": "a6ade351-3bd7-42d9-b3c0-37531ecfe836",
        "colab": {
          "base_uri": "https://localhost:8080/"
        }
      },
      "execution_count": null,
      "outputs": [
        {
          "output_type": "execute_result",
          "data": {
            "text/plain": [
              "array([1, 2, 1])"
            ]
          },
          "metadata": {},
          "execution_count": 94
        }
      ]
    },
    {
      "cell_type": "code",
      "source": [
        "data.argmax(axis=1)"
      ],
      "metadata": {
        "id": "2Ncvmc-ke4Ym",
        "outputId": "cfe4dc0c-8c51-4c6d-90b8-e8ea2c6a84c4",
        "colab": {
          "base_uri": "https://localhost:8080/"
        }
      },
      "execution_count": null,
      "outputs": [
        {
          "output_type": "execute_result",
          "data": {
            "text/plain": [
              "array([2, 1, 0])"
            ]
          },
          "metadata": {},
          "execution_count": 95
        }
      ]
    },
    {
      "cell_type": "code",
      "source": [
        "data=np.random.randint(0,100,(10,5))"
      ],
      "metadata": {
        "id": "JhYst2aKe4WA"
      },
      "execution_count": null,
      "outputs": []
    },
    {
      "cell_type": "code",
      "source": [
        "data"
      ],
      "metadata": {
        "id": "aj3yH2oqe4TR",
        "outputId": "55559841-9281-44a6-87b1-0a7928e4b313",
        "colab": {
          "base_uri": "https://localhost:8080/"
        }
      },
      "execution_count": null,
      "outputs": [
        {
          "output_type": "execute_result",
          "data": {
            "text/plain": [
              "array([[89, 60, 51, 87, 50],\n",
              "       [60, 99, 44, 83, 68],\n",
              "       [13, 47, 35, 48, 41],\n",
              "       [35, 43, 69, 81,  4],\n",
              "       [81, 89, 45, 41, 37],\n",
              "       [ 0, 50, 26, 35, 43],\n",
              "       [29, 22, 49, 28, 89],\n",
              "       [92,  5, 49, 80, 46],\n",
              "       [92, 73, 54, 18, 36],\n",
              "       [62, 83, 51, 98, 40]])"
            ]
          },
          "metadata": {},
          "execution_count": 73
        }
      ]
    },
    {
      "cell_type": "code",
      "source": [
        "data.sum(axis=1)"
      ],
      "metadata": {
        "id": "DPNLMB3ye4RQ",
        "outputId": "9163a3f7-6cf5-4984-c6a7-cff7171b8de8",
        "colab": {
          "base_uri": "https://localhost:8080/"
        }
      },
      "execution_count": null,
      "outputs": [
        {
          "output_type": "execute_result",
          "data": {
            "text/plain": [
              "array([337, 354, 184, 232, 293, 154, 217, 272, 273, 334])"
            ]
          },
          "metadata": {},
          "execution_count": 74
        }
      ]
    },
    {
      "cell_type": "code",
      "source": [
        "data.sum(axis=0)[3:].sum()"
      ],
      "metadata": {
        "id": "3ek2cnpRmnh-",
        "outputId": "043625ab-9888-4060-e794-51f0384bdd07",
        "colab": {
          "base_uri": "https://localhost:8080/"
        }
      },
      "execution_count": null,
      "outputs": [
        {
          "output_type": "execute_result",
          "data": {
            "text/plain": [
              "np.int64(1053)"
            ]
          },
          "metadata": {},
          "execution_count": 75
        }
      ]
    },
    {
      "cell_type": "code",
      "source": [
        "data[:,3:5].sum()"
      ],
      "metadata": {
        "id": "lrZ8SHVRmnYV",
        "outputId": "d43c5c65-3502-41dc-945a-29ac43ce1e67",
        "colab": {
          "base_uri": "https://localhost:8080/"
        }
      },
      "execution_count": null,
      "outputs": [
        {
          "output_type": "execute_result",
          "data": {
            "text/plain": [
              "np.int64(1053)"
            ]
          },
          "metadata": {},
          "execution_count": 76
        }
      ]
    },
    {
      "cell_type": "code",
      "source": [
        "data.sum(axis=1).argmin()+1"
      ],
      "metadata": {
        "id": "EaN9WaTHe4O1",
        "outputId": "22a234a3-5905-4562-d495-60bb37d33090",
        "colab": {
          "base_uri": "https://localhost:8080/"
        }
      },
      "execution_count": null,
      "outputs": [
        {
          "output_type": "execute_result",
          "data": {
            "text/plain": [
              "np.int64(6)"
            ]
          },
          "metadata": {},
          "execution_count": 77
        }
      ]
    },
    {
      "cell_type": "code",
      "source": [
        "data.sum(axis=0).argmax()+1"
      ],
      "metadata": {
        "id": "16xGUw7je4Mc",
        "outputId": "6eb971ca-6c93-4e34-85dd-ff7aa426531d",
        "colab": {
          "base_uri": "https://localhost:8080/"
        }
      },
      "execution_count": null,
      "outputs": [
        {
          "output_type": "execute_result",
          "data": {
            "text/plain": [
              "np.int64(4)"
            ]
          },
          "metadata": {},
          "execution_count": 78
        }
      ]
    },
    {
      "cell_type": "code",
      "source": [
        "data.min(axis=0).max()-data.min(axis=0).min()"
      ],
      "metadata": {
        "id": "qBRQv4Q1e4J0",
        "outputId": "d5943ba6-4f1d-41f3-c5e2-9fb0edd6dbb4",
        "colab": {
          "base_uri": "https://localhost:8080/"
        }
      },
      "execution_count": null,
      "outputs": [
        {
          "output_type": "execute_result",
          "data": {
            "text/plain": [
              "np.int64(26)"
            ]
          },
          "metadata": {},
          "execution_count": 79
        }
      ]
    },
    {
      "cell_type": "code",
      "source": [
        "data=np.random.randint(0,10,10)"
      ],
      "metadata": {
        "id": "SkWvifbUe4IU"
      },
      "execution_count": null,
      "outputs": []
    },
    {
      "cell_type": "code",
      "source": [
        "data"
      ],
      "metadata": {
        "id": "v47Lyn2pe4Fc",
        "outputId": "b8f584b6-0c2e-4a37-ca46-e383d1e47d24",
        "colab": {
          "base_uri": "https://localhost:8080/"
        }
      },
      "execution_count": null,
      "outputs": [
        {
          "output_type": "execute_result",
          "data": {
            "text/plain": [
              "array([5, 2, 3, 9, 8, 4, 8, 9, 5, 8])"
            ]
          },
          "metadata": {},
          "execution_count": 35
        }
      ]
    },
    {
      "cell_type": "code",
      "source": [
        "data.mean()"
      ],
      "metadata": {
        "id": "5MhItyzce4CW",
        "outputId": "f6d6bb27-073d-45e4-88e5-687da57534b3",
        "colab": {
          "base_uri": "https://localhost:8080/"
        }
      },
      "execution_count": null,
      "outputs": [
        {
          "output_type": "execute_result",
          "data": {
            "text/plain": [
              "np.float64(6.1)"
            ]
          },
          "metadata": {},
          "execution_count": 36
        }
      ]
    },
    {
      "cell_type": "code",
      "source": [
        "data"
      ],
      "metadata": {
        "id": "97F8Odifh5Xd",
        "outputId": "6229eff4-77b8-4c2b-9324-f4f230294502",
        "colab": {
          "base_uri": "https://localhost:8080/"
        }
      },
      "execution_count": null,
      "outputs": [
        {
          "output_type": "execute_result",
          "data": {
            "text/plain": [
              "array([5, 2, 3, 9, 8, 4, 8, 9, 5, 8])"
            ]
          },
          "metadata": {},
          "execution_count": 38
        }
      ]
    },
    {
      "cell_type": "code",
      "source": [
        "np.median(data)"
      ],
      "metadata": {
        "id": "5_HNG216h5Uk",
        "outputId": "e16716db-0049-4941-ff62-fe50392fddcb",
        "colab": {
          "base_uri": "https://localhost:8080/"
        }
      },
      "execution_count": null,
      "outputs": [
        {
          "output_type": "execute_result",
          "data": {
            "text/plain": [
              "np.float64(6.5)"
            ]
          },
          "metadata": {},
          "execution_count": 40
        }
      ]
    },
    {
      "cell_type": "code",
      "source": [
        "data"
      ],
      "metadata": {
        "id": "BZtrVHGAh5R7",
        "outputId": "5b9ff3c4-f9f8-4ac8-abdd-2188a8648290",
        "colab": {
          "base_uri": "https://localhost:8080/"
        }
      },
      "execution_count": null,
      "outputs": [
        {
          "output_type": "execute_result",
          "data": {
            "text/plain": [
              "array([5, 2, 3, 9, 8, 4, 8, 9, 5, 8])"
            ]
          },
          "metadata": {},
          "execution_count": 41
        }
      ]
    },
    {
      "cell_type": "code",
      "source": [
        "np.quantile(data,0.25)"
      ],
      "metadata": {
        "id": "ZXPEKX2Jh5Pa",
        "outputId": "887db1a2-ea29-4107-e4c1-557e17ce1578",
        "colab": {
          "base_uri": "https://localhost:8080/"
        }
      },
      "execution_count": null,
      "outputs": [
        {
          "output_type": "execute_result",
          "data": {
            "text/plain": [
              "np.float64(4.25)"
            ]
          },
          "metadata": {},
          "execution_count": 42
        }
      ]
    },
    {
      "cell_type": "code",
      "source": [
        "np.quantile(data,0.50)"
      ],
      "metadata": {
        "id": "3C4EtFbXh5Mn",
        "outputId": "c840da4b-6fd8-4c72-c6cc-0580012b73bc",
        "colab": {
          "base_uri": "https://localhost:8080/"
        }
      },
      "execution_count": null,
      "outputs": [
        {
          "output_type": "execute_result",
          "data": {
            "text/plain": [
              "np.float64(6.5)"
            ]
          },
          "metadata": {},
          "execution_count": 43
        }
      ]
    },
    {
      "cell_type": "code",
      "source": [
        "np.quantile(data,0.75)"
      ],
      "metadata": {
        "id": "9vKY52orh5KM",
        "outputId": "d7e38591-7418-43b7-d5c1-ddc2e613a39a",
        "colab": {
          "base_uri": "https://localhost:8080/"
        }
      },
      "execution_count": null,
      "outputs": [
        {
          "output_type": "execute_result",
          "data": {
            "text/plain": [
              "np.float64(8.0)"
            ]
          },
          "metadata": {},
          "execution_count": 44
        }
      ]
    },
    {
      "cell_type": "code",
      "source": [
        "np.std(data)"
      ],
      "metadata": {
        "id": "mWaz7A5Ph5Hg",
        "outputId": "88dbaedc-59c3-4bde-b0e1-a62b479e6bd4",
        "colab": {
          "base_uri": "https://localhost:8080/"
        }
      },
      "execution_count": null,
      "outputs": [
        {
          "output_type": "execute_result",
          "data": {
            "text/plain": [
              "np.float64(2.467792535850613)"
            ]
          },
          "metadata": {},
          "execution_count": 45
        }
      ]
    },
    {
      "cell_type": "code",
      "source": [
        "np.var(data)"
      ],
      "metadata": {
        "id": "laL2IgC6h5FM",
        "outputId": "38db15d6-a4fb-4de2-e66a-536a4762af5d",
        "colab": {
          "base_uri": "https://localhost:8080/"
        }
      },
      "execution_count": null,
      "outputs": [
        {
          "output_type": "execute_result",
          "data": {
            "text/plain": [
              "np.float64(6.09)"
            ]
          },
          "metadata": {},
          "execution_count": 46
        }
      ]
    },
    {
      "cell_type": "code",
      "source": [
        "data=np.random.randint(0,10,(10,2))"
      ],
      "metadata": {
        "id": "VpIiix83h5DO"
      },
      "execution_count": null,
      "outputs": []
    },
    {
      "cell_type": "code",
      "source": [
        "np.corrcoef(data.T)"
      ],
      "metadata": {
        "id": "BzoWwBLTh5BV",
        "outputId": "12bacf5f-445b-4931-cf4a-28014d49a0d8",
        "colab": {
          "base_uri": "https://localhost:8080/"
        }
      },
      "execution_count": null,
      "outputs": [
        {
          "output_type": "execute_result",
          "data": {
            "text/plain": [
              "array([[ 1.        , -0.63982373],\n",
              "       [-0.63982373,  1.        ]])"
            ]
          },
          "metadata": {},
          "execution_count": 48
        }
      ]
    },
    {
      "cell_type": "code",
      "source": [
        "v1=np.arange(1,11)"
      ],
      "metadata": {
        "id": "7D06Vn7rh4_W"
      },
      "execution_count": null,
      "outputs": []
    },
    {
      "cell_type": "code",
      "source": [
        "v2=np.arange(10,20)"
      ],
      "metadata": {
        "id": "OePSvODch48E"
      },
      "execution_count": null,
      "outputs": []
    },
    {
      "cell_type": "code",
      "source": [
        "v1"
      ],
      "metadata": {
        "id": "TgCL73Bsh44i",
        "outputId": "57aac800-20ed-490e-d66f-18a5b6e1218f",
        "colab": {
          "base_uri": "https://localhost:8080/"
        }
      },
      "execution_count": null,
      "outputs": [
        {
          "output_type": "execute_result",
          "data": {
            "text/plain": [
              "array([ 1,  2,  3,  4,  5,  6,  7,  8,  9, 10])"
            ]
          },
          "metadata": {},
          "execution_count": 51
        }
      ]
    },
    {
      "cell_type": "code",
      "source": [
        "v2"
      ],
      "metadata": {
        "id": "GGGuEHxdkYMO",
        "outputId": "61df6529-05a0-40cf-9e42-bad3d6464762",
        "colab": {
          "base_uri": "https://localhost:8080/"
        }
      },
      "execution_count": null,
      "outputs": [
        {
          "output_type": "execute_result",
          "data": {
            "text/plain": [
              "array([10, 11, 12, 13, 14, 15, 16, 17, 18, 19])"
            ]
          },
          "metadata": {},
          "execution_count": 52
        }
      ]
    },
    {
      "cell_type": "code",
      "source": [
        "x=[10,11,12,13,14,15,16,17,18,19]\n",
        "x.reverse()\n",
        "v2=np.array(x)\n",
        "v2"
      ],
      "metadata": {
        "id": "BAT0J6vxkYIx",
        "outputId": "9e5d649f-8277-464e-de5a-4e53bf0732b8",
        "colab": {
          "base_uri": "https://localhost:8080/"
        }
      },
      "execution_count": null,
      "outputs": [
        {
          "output_type": "execute_result",
          "data": {
            "text/plain": [
              "array([19, 18, 17, 16, 15, 14, 13, 12, 11, 10])"
            ]
          },
          "metadata": {},
          "execution_count": 53
        }
      ]
    },
    {
      "cell_type": "code",
      "source": [
        "data[:,0]=v1\n",
        "data[:,1]=v2"
      ],
      "metadata": {
        "id": "zlWiVww-kYGN"
      },
      "execution_count": null,
      "outputs": []
    },
    {
      "cell_type": "code",
      "source": [
        "np.corrcoef(data.T)"
      ],
      "metadata": {
        "id": "Aur5HT7ek874",
        "outputId": "f79bac3a-f670-41ec-8d72-d08128a1c90a",
        "colab": {
          "base_uri": "https://localhost:8080/"
        }
      },
      "execution_count": null,
      "outputs": [
        {
          "output_type": "execute_result",
          "data": {
            "text/plain": [
              "array([[ 1., -1.],\n",
              "       [-1.,  1.]])"
            ]
          },
          "metadata": {},
          "execution_count": 55
        }
      ]
    },
    {
      "cell_type": "code",
      "source": [
        "data=np.random.randint(0,10,(5,5))"
      ],
      "metadata": {
        "id": "sAoYWPdtk84n"
      },
      "execution_count": null,
      "outputs": []
    },
    {
      "cell_type": "code",
      "source": [
        "np.corrcoef(data)"
      ],
      "metadata": {
        "id": "6VWGFYkZk82L",
        "outputId": "0ebd11bb-b267-40ca-9c0a-f77c2b9fc06e",
        "colab": {
          "base_uri": "https://localhost:8080/"
        }
      },
      "execution_count": null,
      "outputs": [
        {
          "output_type": "execute_result",
          "data": {
            "text/plain": [
              "array([[ 1.        , -0.47287799, -0.68802092, -0.59946195, -0.11337898],\n",
              "       [-0.47287799,  1.        ,  0.44410268, -0.23865673,  0.79735369],\n",
              "       [-0.68802092,  0.44410268,  1.        , -0.05106429, -0.17239571],\n",
              "       [-0.59946195, -0.23865673, -0.05106429,  1.        , -0.15819985],\n",
              "       [-0.11337898,  0.79735369, -0.17239571, -0.15819985,  1.        ]])"
            ]
          },
          "metadata": {},
          "execution_count": 58
        }
      ]
    }
  ],
  "metadata": {
    "colab": {
      "toc_visible": true,
      "provenance": []
    },
    "kernelspec": {
      "display_name": "Python 3",
      "name": "python3"
    }
  },
  "nbformat": 4,
  "nbformat_minor": 0
}