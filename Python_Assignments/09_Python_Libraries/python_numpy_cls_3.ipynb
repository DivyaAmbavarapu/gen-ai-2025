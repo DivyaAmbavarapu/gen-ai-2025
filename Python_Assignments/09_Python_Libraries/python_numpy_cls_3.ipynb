{
  "nbformat": 4,
  "nbformat_minor": 0,
  "metadata": {
    "colab": {
      "provenance": []
    },
    "kernelspec": {
      "name": "python3",
      "display_name": "Python 3"
    },
    "language_info": {
      "name": "python"
    }
  },
  "cells": [
    {
      "cell_type": "code",
      "execution_count": 1,
      "metadata": {
        "id": "eYPKdRgLThHK"
      },
      "outputs": [],
      "source": [
        "import numpy as np"
      ]
    },
    {
      "cell_type": "code",
      "source": [
        "data=np.random.randint(0,10,5)"
      ],
      "metadata": {
        "id": "_H85ExRhTmPL"
      },
      "execution_count": 6,
      "outputs": []
    },
    {
      "cell_type": "code",
      "source": [
        "data"
      ],
      "metadata": {
        "colab": {
          "base_uri": "https://localhost:8080/"
        },
        "id": "k7dZlCPZTmLj",
        "outputId": "507a6d7b-dc51-480a-bb24-825ddc5c6404"
      },
      "execution_count": 7,
      "outputs": [
        {
          "output_type": "execute_result",
          "data": {
            "text/plain": [
              "array([3, 2, 8, 3, 7])"
            ]
          },
          "metadata": {},
          "execution_count": 7
        }
      ]
    },
    {
      "cell_type": "code",
      "source": [
        "data+3"
      ],
      "metadata": {
        "colab": {
          "base_uri": "https://localhost:8080/"
        },
        "id": "CD14-EN6TmIg",
        "outputId": "294f58ec-8552-44d8-c8e1-55cd8db7fa71"
      },
      "execution_count": 8,
      "outputs": [
        {
          "output_type": "execute_result",
          "data": {
            "text/plain": [
              "array([ 6,  5, 11,  6, 10])"
            ]
          },
          "metadata": {},
          "execution_count": 8
        }
      ]
    },
    {
      "cell_type": "code",
      "source": [
        "x=np.random.randint(0,10,(4,3))"
      ],
      "metadata": {
        "id": "iYacqUgzTmGL"
      },
      "execution_count": 11,
      "outputs": []
    },
    {
      "cell_type": "code",
      "source": [
        "x"
      ],
      "metadata": {
        "colab": {
          "base_uri": "https://localhost:8080/"
        },
        "id": "1j8qoP40TmEY",
        "outputId": "94a818c3-677a-4a31-f540-e6480a5e6bd6"
      },
      "execution_count": 12,
      "outputs": [
        {
          "output_type": "execute_result",
          "data": {
            "text/plain": [
              "array([[3, 3, 6],\n",
              "       [8, 5, 9],\n",
              "       [2, 3, 4],\n",
              "       [9, 9, 8]])"
            ]
          },
          "metadata": {},
          "execution_count": 12
        }
      ]
    },
    {
      "cell_type": "code",
      "source": [
        "y=np.random.randint(0,10,3)"
      ],
      "metadata": {
        "id": "Ws3LpyylTmDJ"
      },
      "execution_count": 15,
      "outputs": []
    },
    {
      "cell_type": "code",
      "source": [
        "y"
      ],
      "metadata": {
        "colab": {
          "base_uri": "https://localhost:8080/"
        },
        "id": "45P_EvyFTmAX",
        "outputId": "ad2d945d-7d6d-4396-8885-c8f59ff3182f"
      },
      "execution_count": 16,
      "outputs": [
        {
          "output_type": "execute_result",
          "data": {
            "text/plain": [
              "array([8, 4, 8])"
            ]
          },
          "metadata": {},
          "execution_count": 16
        }
      ]
    },
    {
      "cell_type": "code",
      "source": [
        "x+y"
      ],
      "metadata": {
        "colab": {
          "base_uri": "https://localhost:8080/"
        },
        "id": "-hZKxnUZTl9M",
        "outputId": "711e837b-374d-4e67-d358-65a9b74a08a8"
      },
      "execution_count": 17,
      "outputs": [
        {
          "output_type": "execute_result",
          "data": {
            "text/plain": [
              "array([[11,  7, 14],\n",
              "       [16,  9, 17],\n",
              "       [10,  7, 12],\n",
              "       [17, 13, 16]])"
            ]
          },
          "metadata": {},
          "execution_count": 17
        }
      ]
    },
    {
      "cell_type": "code",
      "source": [
        "x=np.random.randint(0,10,(4,1))"
      ],
      "metadata": {
        "id": "Qi5_wu66Tl6M"
      },
      "execution_count": 21,
      "outputs": []
    },
    {
      "cell_type": "code",
      "source": [
        "x"
      ],
      "metadata": {
        "colab": {
          "base_uri": "https://localhost:8080/"
        },
        "id": "IQ6ng92DTl28",
        "outputId": "0dcbd3e9-84b8-4a12-f9d2-f5542ef87be4"
      },
      "execution_count": 22,
      "outputs": [
        {
          "output_type": "execute_result",
          "data": {
            "text/plain": [
              "array([[0],\n",
              "       [0],\n",
              "       [5],\n",
              "       [6]])"
            ]
          },
          "metadata": {},
          "execution_count": 22
        }
      ]
    },
    {
      "cell_type": "code",
      "source": [
        "y=np.random.randint(0,10,(1,3))"
      ],
      "metadata": {
        "id": "VQa3lXhEUuJb"
      },
      "execution_count": 24,
      "outputs": []
    },
    {
      "cell_type": "code",
      "source": [
        "y"
      ],
      "metadata": {
        "colab": {
          "base_uri": "https://localhost:8080/"
        },
        "id": "SLVHdaO5UuGC",
        "outputId": "8fcbff1b-5a20-4a54-b576-1705e5e097d8"
      },
      "execution_count": 25,
      "outputs": [
        {
          "output_type": "execute_result",
          "data": {
            "text/plain": [
              "array([[4, 7, 4]])"
            ]
          },
          "metadata": {},
          "execution_count": 25
        }
      ]
    },
    {
      "cell_type": "code",
      "source": [
        "x+y"
      ],
      "metadata": {
        "colab": {
          "base_uri": "https://localhost:8080/"
        },
        "id": "nJSONln3UuCz",
        "outputId": "81673b02-0041-478b-b7ed-902086959750"
      },
      "execution_count": 26,
      "outputs": [
        {
          "output_type": "execute_result",
          "data": {
            "text/plain": [
              "array([[ 4,  7,  4],\n",
              "       [ 4,  7,  4],\n",
              "       [ 9, 12,  9],\n",
              "       [10, 13, 10]])"
            ]
          },
          "metadata": {},
          "execution_count": 26
        }
      ]
    },
    {
      "cell_type": "code",
      "source": [
        "data=np.loadtxt(\"/content/sample.txt\")"
      ],
      "metadata": {
        "id": "pHKoK9zDUt_R"
      },
      "execution_count": 49,
      "outputs": []
    },
    {
      "cell_type": "code",
      "source": [
        "data"
      ],
      "metadata": {
        "colab": {
          "base_uri": "https://localhost:8080/"
        },
        "id": "-GxjfrmUZ_VK",
        "outputId": "2606b26e-9759-4e3f-de2d-b0b0e6277fb4"
      },
      "execution_count": 51,
      "outputs": [
        {
          "output_type": "execute_result",
          "data": {
            "text/plain": [
              "array([[1., 2., 3., 4., 5.],\n",
              "       [5., 6., 7., 9., 7.],\n",
              "       [1., 2., 4., 5., 7.],\n",
              "       [8., 5., 6., 7., 8.],\n",
              "       [8., 6., 5., 4., 3.]])"
            ]
          },
          "metadata": {},
          "execution_count": 51
        }
      ]
    },
    {
      "cell_type": "code",
      "source": [
        "data.shape"
      ],
      "metadata": {
        "colab": {
          "base_uri": "https://localhost:8080/"
        },
        "id": "QE8sNLKmUt7_",
        "outputId": "e6591dc8-ecf9-4b66-acee-638ec87d70b3"
      },
      "execution_count": 50,
      "outputs": [
        {
          "output_type": "execute_result",
          "data": {
            "text/plain": [
              "(5, 5)"
            ]
          },
          "metadata": {},
          "execution_count": 50
        }
      ]
    },
    {
      "cell_type": "code",
      "source": [
        "import glob"
      ],
      "metadata": {
        "id": "80FyJxX9Ut4U"
      },
      "execution_count": 41,
      "outputs": []
    },
    {
      "cell_type": "code",
      "source": [
        "glob.glob(\"/content/*.txt\")"
      ],
      "metadata": {
        "colab": {
          "base_uri": "https://localhost:8080/"
        },
        "id": "o3t0CIFWUt1s",
        "outputId": "435a5eb9-5121-44d8-9bd4-b20cd3dde09d"
      },
      "execution_count": 52,
      "outputs": [
        {
          "output_type": "execute_result",
          "data": {
            "text/plain": [
              "['/content/sample.file2.txt',\n",
              " '/content/sample.file.txt',\n",
              " '/content/sample.txt']"
            ]
          },
          "metadata": {},
          "execution_count": 52
        }
      ]
    },
    {
      "cell_type": "code",
      "source": [
        "data=np.loadtxt(\"/content/sample.txt\")"
      ],
      "metadata": {
        "id": "RMgvuiLZUtz1"
      },
      "execution_count": 53,
      "outputs": []
    },
    {
      "cell_type": "code",
      "source": [
        "data"
      ],
      "metadata": {
        "colab": {
          "base_uri": "https://localhost:8080/"
        },
        "id": "ylX_uALgUtwn",
        "outputId": "50ca52a4-bafe-49ab-ffb5-12b4c262c8ad"
      },
      "execution_count": 54,
      "outputs": [
        {
          "output_type": "execute_result",
          "data": {
            "text/plain": [
              "array([[1., 2., 3., 4., 5.],\n",
              "       [5., 6., 7., 9., 7.],\n",
              "       [1., 2., 4., 5., 7.],\n",
              "       [8., 5., 6., 7., 8.],\n",
              "       [8., 6., 5., 4., 3.]])"
            ]
          },
          "metadata": {},
          "execution_count": 54
        }
      ]
    },
    {
      "cell_type": "code",
      "source": [
        "data=np.loadtxt(\"/content/sample.txt\")\n",
        "paths=glob.glob(\"/content/*.txt\")"
      ],
      "metadata": {
        "id": "5wenjtHRak0b"
      },
      "execution_count": 55,
      "outputs": []
    },
    {
      "cell_type": "code",
      "source": [
        "paths"
      ],
      "metadata": {
        "colab": {
          "base_uri": "https://localhost:8080/"
        },
        "id": "xAACrs_lbC8E",
        "outputId": "ba6ad9f7-1493-426d-c480-5b2fdcf216c8"
      },
      "execution_count": 57,
      "outputs": [
        {
          "output_type": "execute_result",
          "data": {
            "text/plain": [
              "['/content/sample.file2.txt',\n",
              " '/content/sample.file.txt',\n",
              " '/content/sample.txt']"
            ]
          },
          "metadata": {},
          "execution_count": 57
        }
      ]
    },
    {
      "cell_type": "code",
      "source": [
        "for i in paths:\n",
        "  data=np.loadtxt(i)\n",
        "  print(data)\n",
        "  print(\" \")"
      ],
      "metadata": {
        "colab": {
          "base_uri": "https://localhost:8080/"
        },
        "id": "R4mSnPjNUtt2",
        "outputId": "95093119-d1f1-4670-cb92-80e0deb093b8"
      },
      "execution_count": 59,
      "outputs": [
        {
          "output_type": "stream",
          "name": "stdout",
          "text": [
            "[[11. 12. 13.]\n",
            " [14. 15. 16.]\n",
            " [17. 19. 20.]]\n",
            " \n",
            "[[9. 8. 7.]\n",
            " [6. 5. 4.]\n",
            " [3. 2. 1.]]\n",
            " \n",
            "[[1. 2. 3. 4. 5.]\n",
            " [5. 6. 7. 9. 7.]\n",
            " [1. 2. 4. 5. 7.]\n",
            " [8. 5. 6. 7. 8.]\n",
            " [8. 6. 5. 4. 3.]]\n",
            " \n"
          ]
        }
      ]
    },
    {
      "cell_type": "code",
      "source": [
        "np.loadtxt(\"/content/test.csv\",delimiter=',')"
      ],
      "metadata": {
        "colab": {
          "base_uri": "https://localhost:8080/"
        },
        "id": "V1siDGCiaO3H",
        "outputId": "4a4f77f0-1e5a-46b6-e3cf-7b6dddaa90d7"
      },
      "execution_count": 62,
      "outputs": [
        {
          "output_type": "stream",
          "name": "stderr",
          "text": [
            "<ipython-input-62-95ae3510b42f>:1: UserWarning: loadtxt: input contained no data: \"/content/test.csv\"\n",
            "  np.loadtxt(\"/content/test.csv\",delimiter=',')\n"
          ]
        },
        {
          "output_type": "execute_result",
          "data": {
            "text/plain": [
              "array([], dtype=float64)"
            ]
          },
          "metadata": {},
          "execution_count": 62
        }
      ]
    },
    {
      "cell_type": "code",
      "source": [
        "data=np.random.randint(0,10,5)"
      ],
      "metadata": {
        "id": "-FomNLqoaOzs"
      },
      "execution_count": 66,
      "outputs": []
    },
    {
      "cell_type": "code",
      "source": [
        "data"
      ],
      "metadata": {
        "colab": {
          "base_uri": "https://localhost:8080/"
        },
        "id": "HKeVnnbQaOxL",
        "outputId": "ab756357-0600-4494-ba0f-4dca43bf109e"
      },
      "execution_count": 67,
      "outputs": [
        {
          "output_type": "execute_result",
          "data": {
            "text/plain": [
              "array([0, 2, 2, 2, 5])"
            ]
          },
          "metadata": {},
          "execution_count": 67
        }
      ]
    },
    {
      "cell_type": "code",
      "source": [
        "data.cumsum()"
      ],
      "metadata": {
        "colab": {
          "base_uri": "https://localhost:8080/"
        },
        "id": "092S2_TYaOul",
        "outputId": "8788bdb9-143b-4044-d9ec-be5d2b7cf062"
      },
      "execution_count": 68,
      "outputs": [
        {
          "output_type": "execute_result",
          "data": {
            "text/plain": [
              "array([ 0,  2,  4,  6, 11])"
            ]
          },
          "metadata": {},
          "execution_count": 68
        }
      ]
    },
    {
      "cell_type": "code",
      "source": [
        "data.cumprod()"
      ],
      "metadata": {
        "colab": {
          "base_uri": "https://localhost:8080/"
        },
        "id": "rJZaycwgaOr7",
        "outputId": "22bb594b-67a4-4a63-98e4-b3d0b596c734"
      },
      "execution_count": 69,
      "outputs": [
        {
          "output_type": "execute_result",
          "data": {
            "text/plain": [
              "array([0, 0, 0, 0, 0])"
            ]
          },
          "metadata": {},
          "execution_count": 69
        }
      ]
    },
    {
      "cell_type": "code",
      "source": [
        "data=np.random.randint(0,10,(3,3))"
      ],
      "metadata": {
        "id": "l_QYNINddT8a"
      },
      "execution_count": 71,
      "outputs": []
    },
    {
      "cell_type": "code",
      "source": [
        "data"
      ],
      "metadata": {
        "colab": {
          "base_uri": "https://localhost:8080/"
        },
        "id": "rtAjqRGQdT48",
        "outputId": "f613866b-b360-4ffe-d81b-cae85b82ee0c"
      },
      "execution_count": 72,
      "outputs": [
        {
          "output_type": "execute_result",
          "data": {
            "text/plain": [
              "array([[0, 4, 1],\n",
              "       [2, 6, 0],\n",
              "       [9, 2, 2]])"
            ]
          },
          "metadata": {},
          "execution_count": 72
        }
      ]
    },
    {
      "cell_type": "code",
      "source": [
        "data.cumsum(axis=1)"
      ],
      "metadata": {
        "colab": {
          "base_uri": "https://localhost:8080/"
        },
        "id": "BSfozSPcdT2J",
        "outputId": "330f0921-fc27-4b27-fc6a-1c72aebff22b"
      },
      "execution_count": 74,
      "outputs": [
        {
          "output_type": "execute_result",
          "data": {
            "text/plain": [
              "array([[ 0,  4,  5],\n",
              "       [ 2,  8,  8],\n",
              "       [ 9, 11, 13]])"
            ]
          },
          "metadata": {},
          "execution_count": 74
        }
      ]
    },
    {
      "cell_type": "code",
      "source": [
        "data.cumprod(axis=1)"
      ],
      "metadata": {
        "colab": {
          "base_uri": "https://localhost:8080/"
        },
        "id": "Cba3HDsmdmfv",
        "outputId": "431fb233-5548-4fda-b9c0-79899ef03aa3"
      },
      "execution_count": 75,
      "outputs": [
        {
          "output_type": "execute_result",
          "data": {
            "text/plain": [
              "array([[ 0,  0,  0],\n",
              "       [ 2, 12,  0],\n",
              "       [ 9, 18, 36]])"
            ]
          },
          "metadata": {},
          "execution_count": 75
        }
      ]
    },
    {
      "cell_type": "code",
      "source": [
        "np.ones((3,3))"
      ],
      "metadata": {
        "colab": {
          "base_uri": "https://localhost:8080/"
        },
        "id": "riB8rMSVdmcP",
        "outputId": "b5494ba2-40c0-4205-84a0-cddfac0f87c6"
      },
      "execution_count": 76,
      "outputs": [
        {
          "output_type": "execute_result",
          "data": {
            "text/plain": [
              "array([[1., 1., 1.],\n",
              "       [1., 1., 1.],\n",
              "       [1., 1., 1.]])"
            ]
          },
          "metadata": {},
          "execution_count": 76
        }
      ]
    },
    {
      "cell_type": "code",
      "source": [
        "np.zeros((3,3))"
      ],
      "metadata": {
        "colab": {
          "base_uri": "https://localhost:8080/"
        },
        "id": "zE5mPup-dmZx",
        "outputId": "001d68ea-09e4-4789-a434-d38072bf8db3"
      },
      "execution_count": 77,
      "outputs": [
        {
          "output_type": "execute_result",
          "data": {
            "text/plain": [
              "array([[0., 0., 0.],\n",
              "       [0., 0., 0.],\n",
              "       [0., 0., 0.]])"
            ]
          },
          "metadata": {},
          "execution_count": 77
        }
      ]
    },
    {
      "cell_type": "code",
      "source": [
        "a=np.random.choice([10,20,30,40,50],size=3)\n",
        "a"
      ],
      "metadata": {
        "colab": {
          "base_uri": "https://localhost:8080/"
        },
        "id": "iO1JKCbjdmXy",
        "outputId": "3c0efe32-e136-4543-a193-e58df84dd3ff"
      },
      "execution_count": 78,
      "outputs": [
        {
          "output_type": "execute_result",
          "data": {
            "text/plain": [
              "array([50, 50, 50])"
            ]
          },
          "metadata": {},
          "execution_count": 78
        }
      ]
    },
    {
      "cell_type": "code",
      "source": [
        "a=np.random.choice([10,20,30,40,50],size=3,replace=True)\n",
        "a"
      ],
      "metadata": {
        "colab": {
          "base_uri": "https://localhost:8080/"
        },
        "id": "vdOnr4CDdmU4",
        "outputId": "483ec0a5-acd2-481d-e0be-f2777fef9f0e"
      },
      "execution_count": 79,
      "outputs": [
        {
          "output_type": "execute_result",
          "data": {
            "text/plain": [
              "array([20, 10, 20])"
            ]
          },
          "metadata": {},
          "execution_count": 79
        }
      ]
    },
    {
      "cell_type": "code",
      "source": [
        "a=np.random.choice([10,20,30,40,50],size=3,replace=False)\n",
        "a"
      ],
      "metadata": {
        "colab": {
          "base_uri": "https://localhost:8080/"
        },
        "id": "q3BGmFgGecxa",
        "outputId": "6a3d60bd-5ea6-4dda-e478-50c128d8cca9"
      },
      "execution_count": 80,
      "outputs": [
        {
          "output_type": "execute_result",
          "data": {
            "text/plain": [
              "array([40, 10, 20])"
            ]
          },
          "metadata": {},
          "execution_count": 80
        }
      ]
    }
  ]
}