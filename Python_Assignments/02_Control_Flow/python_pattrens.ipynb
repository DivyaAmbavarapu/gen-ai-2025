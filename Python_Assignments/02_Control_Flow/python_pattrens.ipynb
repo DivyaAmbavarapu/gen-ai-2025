{
  "cells": [
    {
      "cell_type": "code",
      "source": [
        "n = 5\n",
        "for i in range(1, n+1):\n",
        "    print(\" \" * (n - i) + \"*\" * (2*i - 1))\n"
      ],
      "metadata": {
        "id": "MyvRIAslXZVs",
        "outputId": "a8b53e46-95ae-4289-99b3-a9e6a8c40037",
        "colab": {
          "base_uri": "https://localhost:8080/"
        }
      },
      "execution_count": null,
      "outputs": [
        {
          "output_type": "stream",
          "name": "stdout",
          "text": [
            "    *\n",
            "   ***\n",
            "  *****\n",
            " *******\n",
            "*********\n"
          ]
        }
      ]
    },
    {
      "cell_type": "code",
      "source": [
        "n = 5\n",
        "for i in range(5, 0, -1):\n",
        "    print(\" \" * (n - i) + \"*\" * (2*i - 1))\n"
      ],
      "metadata": {
        "id": "WQVJyOV_XZJJ",
        "outputId": "67601ebd-298e-46c0-d3f0-8f89f3c8d685",
        "colab": {
          "base_uri": "https://localhost:8080/"
        }
      },
      "execution_count": null,
      "outputs": [
        {
          "output_type": "stream",
          "name": "stdout",
          "text": [
            "*********\n",
            " *******\n",
            "  *****\n",
            "   ***\n",
            "    *\n"
          ]
        }
      ]
    },
    {
      "cell_type": "code",
      "source": [
        "num = 0\n",
        "for i in range(1, 6):\n",
        "    for j in range(i):\n",
        "        print(num, end=\" \")\n",
        "        num += 1\n",
        "    print()\n"
      ],
      "metadata": {
        "id": "phasYWJ5eqJX",
        "outputId": "91236936-b2bc-4e9c-910d-bdc852b5bcb8",
        "colab": {
          "base_uri": "https://localhost:8080/"
        }
      },
      "execution_count": null,
      "outputs": [
        {
          "output_type": "stream",
          "name": "stdout",
          "text": [
            "0 \n",
            "1 2 \n",
            "3 4 5 \n",
            "6 7 8 9 \n",
            "10 11 12 13 14 \n"
          ]
        }
      ]
    },
    {
      "cell_type": "code",
      "source": [
        "for i in range(1, 6):\n",
        "    for j in range(1, 6):\n",
        "        print(j, end=\" \")\n",
        "    print()\n"
      ],
      "metadata": {
        "id": "ezdtM68CeqBv",
        "outputId": "95adcb80-5490-4f47-c756-d1033f42bf3a",
        "colab": {
          "base_uri": "https://localhost:8080/"
        }
      },
      "execution_count": null,
      "outputs": [
        {
          "output_type": "stream",
          "name": "stdout",
          "text": [
            "1 2 3 4 5 \n",
            "1 2 3 4 5 \n",
            "1 2 3 4 5 \n",
            "1 2 3 4 5 \n",
            "1 2 3 4 5 \n"
          ]
        }
      ]
    },
    {
      "cell_type": "code",
      "source": [
        "num = 15\n",
        "for i in range(5, 0, -1):\n",
        "    for j in range(i):\n",
        "        print(num, end=\" \")\n",
        "        num -= 1\n",
        "    print()\n"
      ],
      "metadata": {
        "id": "rcq3m2WGep_P",
        "outputId": "3024f039-3b0c-4392-bfe1-4c639987a6fe",
        "colab": {
          "base_uri": "https://localhost:8080/"
        }
      },
      "execution_count": null,
      "outputs": [
        {
          "output_type": "stream",
          "name": "stdout",
          "text": [
            "15 14 13 12 11 \n",
            "10 9 8 7 \n",
            "6 5 4 \n",
            "3 2 \n",
            "1 \n"
          ]
        }
      ]
    },
    {
      "cell_type": "code",
      "source": [
        "for i in range(5):\n",
        "    for j in range(i + 1):\n",
        "        print(chr(65 + j), end=\" \")\n",
        "    print()\n"
      ],
      "metadata": {
        "id": "pQ5YP4mpep8c",
        "outputId": "09836d78-a715-476f-aa00-37c195e1158b",
        "colab": {
          "base_uri": "https://localhost:8080/"
        }
      },
      "execution_count": null,
      "outputs": [
        {
          "output_type": "stream",
          "name": "stdout",
          "text": [
            "A \n",
            "A B \n",
            "A B C \n",
            "A B C D \n",
            "A B C D E \n"
          ]
        }
      ]
    }
  ],
  "metadata": {
    "colab": {
      "toc_visible": true,
      "provenance": []
    },
    "kernelspec": {
      "display_name": "Python 3",
      "name": "python3"
    }
  },
  "nbformat": 4,
  "nbformat_minor": 0
}