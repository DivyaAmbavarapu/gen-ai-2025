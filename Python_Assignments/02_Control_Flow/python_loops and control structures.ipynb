{
  "cells": [
    {
      "cell_type": "code",
      "source": [
        "x=\"data\"\n",
        "for i in x:\n",
        "  print(2)"
      ],
      "metadata": {
        "id": "8Mo9GrNGS4wm",
        "outputId": "5192c82e-ea61-4d6e-b603-87e11b423a08",
        "colab": {
          "base_uri": "https://localhost:8080/"
        }
      },
      "execution_count": null,
      "outputs": [
        {
          "output_type": "stream",
          "name": "stdout",
          "text": [
            "2\n",
            "2\n",
            "2\n",
            "2\n"
          ]
        }
      ]
    },
    {
      "cell_type": "code",
      "source": [
        "x=[1,2,3,[4,5,6]]\n",
        "for i in x:\n",
        "  print(i)"
      ],
      "metadata": {
        "id": "vW2k_K_kS7Ui",
        "outputId": "19774b40-125c-46d1-868a-a9bf48fc8668",
        "colab": {
          "base_uri": "https://localhost:8080/"
        }
      },
      "execution_count": null,
      "outputs": [
        {
          "output_type": "stream",
          "name": "stdout",
          "text": [
            "1\n",
            "2\n",
            "3\n",
            "[4, 5, 6]\n"
          ]
        }
      ]
    },
    {
      "cell_type": "code",
      "source": [
        "for i in [\"data\"]:\n",
        "  print(i)"
      ],
      "metadata": {
        "id": "Y9LXpRd2S7Q_",
        "outputId": "2026133c-6956-49df-b6a7-a61e3c6898fb",
        "colab": {
          "base_uri": "https://localhost:8080/"
        }
      },
      "execution_count": null,
      "outputs": [
        {
          "output_type": "stream",
          "name": "stdout",
          "text": [
            "data\n"
          ]
        }
      ]
    },
    {
      "cell_type": "code",
      "source": [
        "len([1,2,3,[4,5],[6,7]])"
      ],
      "metadata": {
        "id": "mj5eNwuxS7OS",
        "outputId": "e002bda5-af82-43bf-e59e-2c32d2fff489",
        "colab": {
          "base_uri": "https://localhost:8080/"
        }
      },
      "execution_count": null,
      "outputs": [
        {
          "output_type": "execute_result",
          "data": {
            "text/plain": [
              "5"
            ]
          },
          "metadata": {},
          "execution_count": 8
        }
      ]
    },
    {
      "cell_type": "code",
      "source": [
        "for i in [1,2,3]:\n",
        "  print(2+i)"
      ],
      "metadata": {
        "id": "6ejR6cnfS7Ls",
        "outputId": "dd7d0e5c-091d-4204-dedb-7ca5c7acebe0",
        "colab": {
          "base_uri": "https://localhost:8080/"
        }
      },
      "execution_count": null,
      "outputs": [
        {
          "output_type": "stream",
          "name": "stdout",
          "text": [
            "3\n",
            "4\n",
            "5\n"
          ]
        }
      ]
    },
    {
      "cell_type": "code",
      "source": [
        "for i in [1,2,3]:\n",
        "  print(3)"
      ],
      "metadata": {
        "id": "8UPWd3VUS7I-",
        "outputId": "04b8c726-ba60-4d11-81e9-6560a95004a1",
        "colab": {
          "base_uri": "https://localhost:8080/"
        }
      },
      "execution_count": null,
      "outputs": [
        {
          "output_type": "stream",
          "name": "stdout",
          "text": [
            "3\n",
            "3\n",
            "3\n"
          ]
        }
      ]
    },
    {
      "cell_type": "code",
      "source": [
        "for i in range(0,10):\n",
        "  print(i,end=',')"
      ],
      "metadata": {
        "id": "4MvnjnXbS7GL",
        "outputId": "4ee1241c-7cd9-47d1-d297-3a6bed49bdc5",
        "colab": {
          "base_uri": "https://localhost:8080/"
        }
      },
      "execution_count": null,
      "outputs": [
        {
          "output_type": "stream",
          "name": "stdout",
          "text": [
            "0,1,2,3,4,5,6,7,8,9,"
          ]
        }
      ]
    },
    {
      "cell_type": "code",
      "source": [
        "for i in range(0,10,2):\n",
        "  print(i,end=',')"
      ],
      "metadata": {
        "id": "PHzQmXmsS7Di",
        "outputId": "416b0d3f-bdcb-478a-8726-568846b7097f",
        "colab": {
          "base_uri": "https://localhost:8080/"
        }
      },
      "execution_count": null,
      "outputs": [
        {
          "output_type": "stream",
          "name": "stdout",
          "text": [
            "0,2,4,6,8,"
          ]
        }
      ]
    },
    {
      "cell_type": "code",
      "source": [
        "for i in range(0,10,3):\n",
        "  print(i,end=',')"
      ],
      "metadata": {
        "id": "aMENWA8hS7A8",
        "outputId": "9f8845fa-5a9d-47b5-88b8-10fdbbc35561",
        "colab": {
          "base_uri": "https://localhost:8080/"
        }
      },
      "execution_count": null,
      "outputs": [
        {
          "output_type": "stream",
          "name": "stdout",
          "text": [
            "0,3,6,9,"
          ]
        }
      ]
    },
    {
      "cell_type": "code",
      "source": [
        "for i in range(0,10,1):\n",
        "  print(i,end=',')"
      ],
      "metadata": {
        "id": "_3LUIewuS69_",
        "outputId": "38fc4cc3-ad74-40e0-f09a-d578dc9f76af",
        "colab": {
          "base_uri": "https://localhost:8080/"
        }
      },
      "execution_count": null,
      "outputs": [
        {
          "output_type": "stream",
          "name": "stdout",
          "text": [
            "0,1,2,3,4,5,6,7,8,9,"
          ]
        }
      ]
    },
    {
      "cell_type": "code",
      "source": [
        "for i in range(10,0,-1):\n",
        "  print(i,end=',')"
      ],
      "metadata": {
        "id": "tPQiLIfjS67K",
        "outputId": "7f901ccb-045d-47a8-d68c-486a840cb31d",
        "colab": {
          "base_uri": "https://localhost:8080/"
        }
      },
      "execution_count": null,
      "outputs": [
        {
          "output_type": "stream",
          "name": "stdout",
          "text": [
            "10,9,8,7,6,5,4,3,2,1,"
          ]
        }
      ]
    },
    {
      "cell_type": "code",
      "source": [
        "\"*\"*4"
      ],
      "metadata": {
        "id": "7uKtxwAWS64w",
        "outputId": "c8355ef8-b695-4e0f-f04c-b033af381ab7",
        "colab": {
          "base_uri": "https://localhost:8080/",
          "height": 35
        }
      },
      "execution_count": null,
      "outputs": [
        {
          "output_type": "execute_result",
          "data": {
            "text/plain": [
              "'****'"
            ],
            "application/vnd.google.colaboratory.intrinsic+json": {
              "type": "string"
            }
          },
          "metadata": {},
          "execution_count": 19
        }
      ]
    },
    {
      "cell_type": "code",
      "source": [
        "for i in range(1,6):\n",
        "  print(i*\"*\")"
      ],
      "metadata": {
        "id": "tL-GJJBhS62E",
        "outputId": "6e6b3709-6306-47ad-867a-071d2bc57188",
        "colab": {
          "base_uri": "https://localhost:8080/"
        }
      },
      "execution_count": null,
      "outputs": [
        {
          "output_type": "stream",
          "name": "stdout",
          "text": [
            "*\n",
            "**\n",
            "***\n",
            "****\n",
            "*****\n"
          ]
        }
      ]
    },
    {
      "cell_type": "code",
      "source": [
        "for i in range(5,0,-1):\n",
        "  print(i*\"*\")"
      ],
      "metadata": {
        "id": "A4Lvw422S6za",
        "outputId": "168828a7-686f-428c-a478-297a015f9960",
        "colab": {
          "base_uri": "https://localhost:8080/"
        }
      },
      "execution_count": null,
      "outputs": [
        {
          "output_type": "stream",
          "name": "stdout",
          "text": [
            "*****\n",
            "****\n",
            "***\n",
            "**\n"
          ]
        }
      ]
    },
    {
      "cell_type": "code",
      "source": [
        "for i in range(1,6):\n",
        "  print((6-i)*\"*\")"
      ],
      "metadata": {
        "id": "hOW2FAFxS6w2",
        "outputId": "734cb727-e240-48f3-d634-9e74410394f8",
        "colab": {
          "base_uri": "https://localhost:8080/"
        }
      },
      "execution_count": null,
      "outputs": [
        {
          "output_type": "stream",
          "name": "stdout",
          "text": [
            "*****\n",
            "****\n",
            "***\n",
            "**\n",
            "*\n"
          ]
        }
      ]
    },
    {
      "cell_type": "code",
      "source": [
        "for i in range(1,6):\n",
        "  print(6-i)"
      ],
      "metadata": {
        "id": "e77x_slfS6uL",
        "outputId": "b653284b-cdab-4f38-8c57-65f474e1a22b",
        "colab": {
          "base_uri": "https://localhost:8080/"
        }
      },
      "execution_count": null,
      "outputs": [
        {
          "output_type": "stream",
          "name": "stdout",
          "text": [
            "5\n",
            "4\n",
            "3\n",
            "2\n",
            "1\n"
          ]
        }
      ]
    },
    {
      "cell_type": "code",
      "source": [
        "for i in range(0,3):\n",
        "  print(\"Data\".upper())\n",
        "  print(\"Data\".lower())"
      ],
      "metadata": {
        "id": "6FZrjDQqS6rm",
        "outputId": "7f0c01b3-fa4f-484a-a7cb-bc88252af60a",
        "colab": {
          "base_uri": "https://localhost:8080/"
        }
      },
      "execution_count": null,
      "outputs": [
        {
          "output_type": "stream",
          "name": "stdout",
          "text": [
            "DATA\n",
            "data\n",
            "DATA\n",
            "data\n",
            "DATA\n",
            "data\n"
          ]
        }
      ]
    },
    {
      "cell_type": "code",
      "source": [
        "for i in range(0,10,2):\n",
        "  print(\"data science\".split()[-1][-3])"
      ],
      "metadata": {
        "id": "1ulqDTAVS6pC",
        "outputId": "9fa4e497-3638-4e4d-b017-fd6b36a3bdad",
        "colab": {
          "base_uri": "https://localhost:8080/"
        }
      },
      "execution_count": null,
      "outputs": [
        {
          "output_type": "stream",
          "name": "stdout",
          "text": [
            "n\n",
            "n\n",
            "n\n",
            "n\n",
            "n\n"
          ]
        }
      ]
    },
    {
      "cell_type": "code",
      "source": [
        "for i in range(0,7):\n",
        "  if True:\n",
        "    print(\"data\")"
      ],
      "metadata": {
        "id": "yIWElqX0S6mZ",
        "outputId": "cc8e6fed-03ec-4e53-a76e-1c50c91e2b2a",
        "colab": {
          "base_uri": "https://localhost:8080/"
        }
      },
      "execution_count": null,
      "outputs": [
        {
          "output_type": "stream",
          "name": "stdout",
          "text": [
            "data\n",
            "data\n",
            "data\n",
            "data\n",
            "data\n",
            "data\n",
            "data\n"
          ]
        }
      ]
    },
    {
      "cell_type": "code",
      "source": [
        "for i in range(0,8,1):\n",
        "  print(i*\"*\")"
      ],
      "metadata": {
        "id": "Ld5x1URcS6js",
        "outputId": "9a485c8e-3429-4d6c-bbd1-2e330aa921fa",
        "colab": {
          "base_uri": "https://localhost:8080/"
        }
      },
      "execution_count": null,
      "outputs": [
        {
          "output_type": "stream",
          "name": "stdout",
          "text": [
            "\n",
            "*\n",
            "**\n",
            "***\n",
            "****\n",
            "*****\n",
            "******\n",
            "*******\n"
          ]
        }
      ]
    },
    {
      "cell_type": "code",
      "source": [
        "for i in range(1,6):\n",
        "  print(i*\"*\")\n",
        "  if i==5:\n",
        "    for j in range(5,0,-1):\n",
        "      print(j*\"*\")"
      ],
      "metadata": {
        "id": "H808x-iES6g6",
        "outputId": "7abb742a-6e76-43f1-9805-6e05c8cb1c56",
        "colab": {
          "base_uri": "https://localhost:8080/"
        }
      },
      "execution_count": null,
      "outputs": [
        {
          "output_type": "stream",
          "name": "stdout",
          "text": [
            "*\n",
            "**\n",
            "***\n",
            "****\n",
            "*****\n",
            "*****\n",
            "****\n",
            "***\n",
            "**\n",
            "*\n"
          ]
        }
      ]
    },
    {
      "cell_type": "code",
      "source": [
        "for i in range(1,6):\n",
        "  print(\" \"*(6-i)+i*\"*\")"
      ],
      "metadata": {
        "id": "mcidLtorS6eS",
        "outputId": "55a1b439-c26d-4a30-b6a6-b32e70589596",
        "colab": {
          "base_uri": "https://localhost:8080/"
        }
      },
      "execution_count": null,
      "outputs": [
        {
          "output_type": "stream",
          "name": "stdout",
          "text": [
            "     *\n",
            "    **\n",
            "   ***\n",
            "  ****\n",
            " *****\n"
          ]
        }
      ]
    },
    {
      "cell_type": "code",
      "source": [
        "for i in range(1,6):\n",
        "  print(\"\"*(6-i)+i*\"*\")"
      ],
      "metadata": {
        "id": "xs_0AVkXS6br",
        "outputId": "1458f55d-35f0-437c-80c5-1c33d7955d7e",
        "colab": {
          "base_uri": "https://localhost:8080/"
        }
      },
      "execution_count": null,
      "outputs": [
        {
          "output_type": "stream",
          "name": "stdout",
          "text": [
            "*\n",
            "**\n",
            "***\n",
            "****\n",
            "*****\n"
          ]
        }
      ]
    },
    {
      "cell_type": "code",
      "source": [
        "x=[1,2,3,4,5]\n",
        "for i in range(1,6):\n",
        "  print(x[0:i])\n"
      ],
      "metadata": {
        "id": "2kaICg7oS6ZA",
        "outputId": "735a4c9c-f6b2-4b40-d9a4-d4d1d734011e",
        "colab": {
          "base_uri": "https://localhost:8080/"
        }
      },
      "execution_count": null,
      "outputs": [
        {
          "output_type": "stream",
          "name": "stdout",
          "text": [
            "[1]\n",
            "[1, 2]\n",
            "[1, 2, 3]\n",
            "[1, 2, 3, 4]\n",
            "[1, 2, 3, 4, 5]\n"
          ]
        }
      ]
    },
    {
      "cell_type": "code",
      "source": [
        "x=[1,2,3,4,5]\n",
        "x[0:4]"
      ],
      "metadata": {
        "id": "R98EKOIgS6WY",
        "outputId": "f8a4cd51-9fc5-42d1-8e4c-e90673836664",
        "colab": {
          "base_uri": "https://localhost:8080/"
        }
      },
      "execution_count": null,
      "outputs": [
        {
          "output_type": "execute_result",
          "data": {
            "text/plain": [
              "[1, 2, 3, 4]"
            ]
          },
          "metadata": {},
          "execution_count": 52
        }
      ]
    },
    {
      "cell_type": "code",
      "source": [
        "x=\"data\"\n",
        "for i in range(1,6):\n",
        "  print(x[0:i])"
      ],
      "metadata": {
        "id": "vPgSyOOnS6Tr",
        "outputId": "d34dfa9e-6061-49c5-d3d5-44521cc39aa0",
        "colab": {
          "base_uri": "https://localhost:8080/"
        }
      },
      "execution_count": null,
      "outputs": [
        {
          "output_type": "stream",
          "name": "stdout",
          "text": [
            "d\n",
            "da\n",
            "dat\n",
            "data\n",
            "data\n"
          ]
        }
      ]
    },
    {
      "cell_type": "code",
      "source": [
        "x=\"data abvhuf ansjhrg amsmiehfurhg\"\n",
        "for i in range(1,len(x)):\n",
        "  print(x[0:i])"
      ],
      "metadata": {
        "id": "Sl3hobTBS6Rq",
        "outputId": "4e1f099f-41cc-4825-b1f3-5c5ed765bc6f",
        "colab": {
          "base_uri": "https://localhost:8080/"
        }
      },
      "execution_count": null,
      "outputs": [
        {
          "output_type": "stream",
          "name": "stdout",
          "text": [
            "d\n",
            "da\n",
            "dat\n",
            "data\n",
            "data \n",
            "data a\n",
            "data ab\n",
            "data abv\n",
            "data abvh\n",
            "data abvhu\n",
            "data abvhuf\n",
            "data abvhuf \n",
            "data abvhuf a\n",
            "data abvhuf an\n",
            "data abvhuf ans\n",
            "data abvhuf ansj\n",
            "data abvhuf ansjh\n",
            "data abvhuf ansjhr\n",
            "data abvhuf ansjhrg\n",
            "data abvhuf ansjhrg \n",
            "data abvhuf ansjhrg a\n",
            "data abvhuf ansjhrg am\n",
            "data abvhuf ansjhrg ams\n",
            "data abvhuf ansjhrg amsm\n",
            "data abvhuf ansjhrg amsmi\n",
            "data abvhuf ansjhrg amsmie\n",
            "data abvhuf ansjhrg amsmieh\n",
            "data abvhuf ansjhrg amsmiehf\n",
            "data abvhuf ansjhrg amsmiehfu\n",
            "data abvhuf ansjhrg amsmiehfur\n",
            "data abvhuf ansjhrg amsmiehfurh\n"
          ]
        }
      ]
    },
    {
      "cell_type": "code",
      "source": [
        "x=\"data science machine learning !%@%!@%!$5 learning\""
      ],
      "metadata": {
        "id": "xeakxAFQS6Pf"
      },
      "execution_count": null,
      "outputs": []
    },
    {
      "cell_type": "code",
      "source": [
        "x"
      ],
      "metadata": {
        "id": "0lkE3wtAS6MT",
        "outputId": "629bb63b-35b4-4be4-fce1-7d275da543c9",
        "colab": {
          "base_uri": "https://localhost:8080/",
          "height": 35
        }
      },
      "execution_count": null,
      "outputs": [
        {
          "output_type": "execute_result",
          "data": {
            "text/plain": [
              "'data science machine learning !%@%!@%!$5 learning'"
            ],
            "application/vnd.google.colaboratory.intrinsic+json": {
              "type": "string"
            }
          },
          "metadata": {},
          "execution_count": 62
        }
      ]
    },
    {
      "cell_type": "code",
      "source": [
        "for i in x:\n",
        "  if not(i.isalpha()):\n",
        "    print(i,end=\",\")"
      ],
      "metadata": {
        "id": "EhW8x6hsS6Jt",
        "outputId": "b9fc86ea-93e2-4b85-d781-3c9589049e48",
        "colab": {
          "base_uri": "https://localhost:8080/"
        }
      },
      "execution_count": null,
      "outputs": [
        {
          "output_type": "stream",
          "name": "stdout",
          "text": [
            " , , , ,!,%,@,%,!,@,%,!,$,5, ,"
          ]
        }
      ]
    },
    {
      "cell_type": "code",
      "source": [
        "counter=0\n",
        "for i in x:\n",
        "  if i.isalpha()==False:\n",
        "    print(i,end=\",\")\n",
        "    counter=counter+1"
      ],
      "metadata": {
        "id": "9Ry8FzmeS6HF",
        "outputId": "1057fe34-8d4d-4cbb-c895-c3d47b1f916e",
        "colab": {
          "base_uri": "https://localhost:8080/"
        }
      },
      "execution_count": null,
      "outputs": [
        {
          "output_type": "stream",
          "name": "stdout",
          "text": [
            " , , , ,!,%,@,%,!,@,%,!,$,5, ,"
          ]
        }
      ]
    },
    {
      "cell_type": "code",
      "source": [],
      "metadata": {
        "id": "Fmik2L25S6EQ"
      },
      "execution_count": null,
      "outputs": []
    },
    {
      "cell_type": "code",
      "source": [],
      "metadata": {
        "id": "IjPJaZkXS6Bm"
      },
      "execution_count": null,
      "outputs": []
    }
  ],
  "metadata": {
    "colab": {
      "toc_visible": true,
      "provenance": []
    },
    "kernelspec": {
      "display_name": "Python 3",
      "name": "python3"
    }
  },
  "nbformat": 4,
  "nbformat_minor": 0
}