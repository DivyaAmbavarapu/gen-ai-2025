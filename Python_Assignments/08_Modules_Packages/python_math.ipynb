{
  "cells": [
    {
      "cell_type": "code",
      "source": [
        "import math"
      ],
      "metadata": {
        "id": "HchLC2iae6zL"
      },
      "execution_count": null,
      "outputs": []
    },
    {
      "cell_type": "code",
      "source": [
        "math.pi"
      ],
      "metadata": {
        "id": "mNlxTCcwe6vz",
        "outputId": "f43a9223-1e7e-4774-8b13-d14d2f8df017",
        "colab": {
          "base_uri": "https://localhost:8080/"
        }
      },
      "execution_count": null,
      "outputs": [
        {
          "output_type": "execute_result",
          "data": {
            "text/plain": [
              "3.141592653589793"
            ]
          },
          "metadata": {},
          "execution_count": 45
        }
      ]
    },
    {
      "cell_type": "code",
      "source": [
        "math.e"
      ],
      "metadata": {
        "id": "5SDhe825e6s4",
        "outputId": "7bb293ec-99dd-4237-b99d-cf11f4794546",
        "colab": {
          "base_uri": "https://localhost:8080/"
        }
      },
      "execution_count": null,
      "outputs": [
        {
          "output_type": "execute_result",
          "data": {
            "text/plain": [
              "2.718281828459045"
            ]
          },
          "metadata": {},
          "execution_count": 46
        }
      ]
    },
    {
      "cell_type": "code",
      "source": [
        "math.tau"
      ],
      "metadata": {
        "id": "ioA1G3O-e6qh",
        "outputId": "e070830d-551d-4938-c9ff-2ed88b9989c7",
        "colab": {
          "base_uri": "https://localhost:8080/"
        }
      },
      "execution_count": null,
      "outputs": [
        {
          "output_type": "execute_result",
          "data": {
            "text/plain": [
              "6.283185307179586"
            ]
          },
          "metadata": {},
          "execution_count": 47
        }
      ]
    },
    {
      "cell_type": "code",
      "source": [
        "math.inf"
      ],
      "metadata": {
        "id": "JZrfUOySe6n8",
        "outputId": "4bbeec34-39c1-4e96-fb42-2614e5433a9c",
        "colab": {
          "base_uri": "https://localhost:8080/"
        }
      },
      "execution_count": null,
      "outputs": [
        {
          "output_type": "execute_result",
          "data": {
            "text/plain": [
              "inf"
            ]
          },
          "metadata": {},
          "execution_count": 48
        }
      ]
    },
    {
      "cell_type": "code",
      "source": [
        "math.nan"
      ],
      "metadata": {
        "id": "8krGG_zBe6lQ",
        "outputId": "ab76e6a5-5f9d-4331-d413-086af8b4c23a",
        "colab": {
          "base_uri": "https://localhost:8080/"
        }
      },
      "execution_count": null,
      "outputs": [
        {
          "output_type": "execute_result",
          "data": {
            "text/plain": [
              "nan"
            ]
          },
          "metadata": {},
          "execution_count": 49
        }
      ]
    },
    {
      "cell_type": "code",
      "source": [
        "math.sin(10),math.cos(10),math.tan(10)"
      ],
      "metadata": {
        "id": "bfLOsto3e6ix",
        "outputId": "45ef7130-0e17-443f-febc-a974de287b2a",
        "colab": {
          "base_uri": "https://localhost:8080/"
        }
      },
      "execution_count": null,
      "outputs": [
        {
          "output_type": "execute_result",
          "data": {
            "text/plain": [
              "(-0.5440211108893698, -0.8390715290764524, 0.6483608274590866)"
            ]
          },
          "metadata": {},
          "execution_count": 50
        }
      ]
    },
    {
      "cell_type": "code",
      "source": [
        "math.asin(1),math.acos(1),math.atan(1)"
      ],
      "metadata": {
        "id": "_KrlgRdIe6gG",
        "outputId": "704ecb6c-7d26-4761-a3b0-784674af1ce0",
        "colab": {
          "base_uri": "https://localhost:8080/"
        }
      },
      "execution_count": null,
      "outputs": [
        {
          "output_type": "execute_result",
          "data": {
            "text/plain": [
              "(1.5707963267948966, 0.0, 0.7853981633974483)"
            ]
          },
          "metadata": {},
          "execution_count": 51
        }
      ]
    },
    {
      "cell_type": "code",
      "source": [
        "math.sinh(1),math.cosh(1),math.tanh(1)"
      ],
      "metadata": {
        "id": "G6D0H9Fre6dg",
        "outputId": "286c5976-c9cf-4932-c3b9-92257d7e48e6",
        "colab": {
          "base_uri": "https://localhost:8080/"
        }
      },
      "execution_count": null,
      "outputs": [
        {
          "output_type": "execute_result",
          "data": {
            "text/plain": [
              "(1.1752011936438014, 1.5430806348152437, 0.7615941559557649)"
            ]
          },
          "metadata": {},
          "execution_count": 52
        }
      ]
    },
    {
      "cell_type": "code",
      "source": [
        "math.sinh(10),math.cosh(1)"
      ],
      "metadata": {
        "id": "ByELf-9Ve6a2",
        "outputId": "c7d5b8b3-5391-4249-977e-84cd76475bc0",
        "colab": {
          "base_uri": "https://localhost:8080/"
        }
      },
      "execution_count": null,
      "outputs": [
        {
          "output_type": "execute_result",
          "data": {
            "text/plain": [
              "(11013.232874703393, 1.5430806348152437)"
            ]
          },
          "metadata": {},
          "execution_count": 53
        }
      ]
    },
    {
      "cell_type": "code",
      "source": [
        "math.sqrt(4)"
      ],
      "metadata": {
        "id": "F9wDeYMPe6X9",
        "outputId": "796f2aab-d9ec-43e9-cdb3-b1f3ae3cc4b5",
        "colab": {
          "base_uri": "https://localhost:8080/"
        }
      },
      "execution_count": null,
      "outputs": [
        {
          "output_type": "execute_result",
          "data": {
            "text/plain": [
              "2.0"
            ]
          },
          "metadata": {},
          "execution_count": 54
        }
      ]
    },
    {
      "cell_type": "code",
      "source": [
        "math.pow(4,1/2)"
      ],
      "metadata": {
        "id": "Q3RkqAFZe6VR",
        "outputId": "aa5d4df1-d312-4107-be72-c9819c13059c",
        "colab": {
          "base_uri": "https://localhost:8080/"
        }
      },
      "execution_count": null,
      "outputs": [
        {
          "output_type": "execute_result",
          "data": {
            "text/plain": [
              "2.0"
            ]
          },
          "metadata": {},
          "execution_count": 55
        }
      ]
    },
    {
      "cell_type": "code",
      "source": [
        "math.log10(1000)"
      ],
      "metadata": {
        "id": "cmxEBplbe6Sy",
        "outputId": "eff82d0d-b7f6-4ef4-ee8e-16c9d3441684",
        "colab": {
          "base_uri": "https://localhost:8080/"
        }
      },
      "execution_count": null,
      "outputs": [
        {
          "output_type": "execute_result",
          "data": {
            "text/plain": [
              "3.0"
            ]
          },
          "metadata": {},
          "execution_count": 56
        }
      ]
    },
    {
      "cell_type": "code",
      "source": [
        "2.71**5"
      ],
      "metadata": {
        "id": "NOBtR0whe6QB",
        "outputId": "03d5758b-cd85-410e-9339-10c714a73191",
        "colab": {
          "base_uri": "https://localhost:8080/"
        }
      },
      "execution_count": null,
      "outputs": [
        {
          "output_type": "execute_result",
          "data": {
            "text/plain": [
              "146.1660310351"
            ]
          },
          "metadata": {},
          "execution_count": 57
        }
      ]
    },
    {
      "cell_type": "code",
      "source": [
        "math.log(146.16790)"
      ],
      "metadata": {
        "id": "aFsGosBQgBuZ",
        "outputId": "7818fa46-0fd4-4f1a-fe8d-ba32691e2bb2",
        "colab": {
          "base_uri": "https://localhost:8080/"
        }
      },
      "execution_count": null,
      "outputs": [
        {
          "output_type": "execute_result",
          "data": {
            "text/plain": [
              "4.984755960964858"
            ]
          },
          "metadata": {},
          "execution_count": 58
        }
      ]
    },
    {
      "cell_type": "code",
      "source": [
        "math.gcd(12,18)"
      ],
      "metadata": {
        "id": "uWcE_AmOgBq2",
        "outputId": "7e2905d5-6aa4-4c4a-d788-7f87c0a8a5f7",
        "colab": {
          "base_uri": "https://localhost:8080/"
        }
      },
      "execution_count": null,
      "outputs": [
        {
          "output_type": "execute_result",
          "data": {
            "text/plain": [
              "6"
            ]
          },
          "metadata": {},
          "execution_count": 59
        }
      ]
    },
    {
      "cell_type": "code",
      "source": [
        "math.lcm(4,6)"
      ],
      "metadata": {
        "id": "VgUsKrE3gBoV",
        "outputId": "30ab223f-7413-43ed-b89b-308cb70b57f7",
        "colab": {
          "base_uri": "https://localhost:8080/"
        }
      },
      "execution_count": null,
      "outputs": [
        {
          "output_type": "execute_result",
          "data": {
            "text/plain": [
              "12"
            ]
          },
          "metadata": {},
          "execution_count": 61
        }
      ]
    },
    {
      "cell_type": "code",
      "source": [
        "math.ceil(10.6)"
      ],
      "metadata": {
        "id": "mn7i2otTgBl0",
        "outputId": "89e4dc4e-0a8a-4e09-a476-cbeedc70abfc",
        "colab": {
          "base_uri": "https://localhost:8080/"
        }
      },
      "execution_count": null,
      "outputs": [
        {
          "output_type": "execute_result",
          "data": {
            "text/plain": [
              "11"
            ]
          },
          "metadata": {},
          "execution_count": 62
        }
      ]
    },
    {
      "cell_type": "code",
      "source": [
        "math.floor(10.5)"
      ],
      "metadata": {
        "id": "5TySD4ebgBje",
        "outputId": "aee12e8f-18b4-431a-c315-320823b9d527",
        "colab": {
          "base_uri": "https://localhost:8080/"
        }
      },
      "execution_count": null,
      "outputs": [
        {
          "output_type": "execute_result",
          "data": {
            "text/plain": [
              "10"
            ]
          },
          "metadata": {},
          "execution_count": 64
        }
      ]
    },
    {
      "cell_type": "code",
      "source": [
        "math.hypot(3,4)"
      ],
      "metadata": {
        "id": "TwPBjpi8gBhB",
        "outputId": "b7eddd29-d08a-4bfa-b232-7fd37226bb94",
        "colab": {
          "base_uri": "https://localhost:8080/"
        }
      },
      "execution_count": null,
      "outputs": [
        {
          "output_type": "execute_result",
          "data": {
            "text/plain": [
              "5.0"
            ]
          },
          "metadata": {},
          "execution_count": 66
        }
      ]
    },
    {
      "cell_type": "code",
      "source": [
        "math.dist((1,2),(4,6))"
      ],
      "metadata": {
        "id": "0DiSpPbagBep",
        "outputId": "0122656c-2225-4a49-da93-21d8ca2aada8",
        "colab": {
          "base_uri": "https://localhost:8080/"
        }
      },
      "execution_count": null,
      "outputs": [
        {
          "output_type": "execute_result",
          "data": {
            "text/plain": [
              "5.0"
            ]
          },
          "metadata": {},
          "execution_count": 67
        }
      ]
    },
    {
      "cell_type": "code",
      "source": [
        "math.factorial(4)"
      ],
      "metadata": {
        "id": "YIzMuDBJgBcL",
        "outputId": "0ba7aaa3-0082-4d9d-d734-b44ff3eb943a",
        "colab": {
          "base_uri": "https://localhost:8080/"
        }
      },
      "execution_count": null,
      "outputs": [
        {
          "output_type": "execute_result",
          "data": {
            "text/plain": [
              "24"
            ]
          },
          "metadata": {},
          "execution_count": 68
        }
      ]
    },
    {
      "cell_type": "code",
      "source": [],
      "metadata": {
        "id": "0WbyRsGBgBZW"
      },
      "execution_count": null,
      "outputs": []
    }
  ],
  "metadata": {
    "colab": {
      "toc_visible": true,
      "provenance": []
    },
    "kernelspec": {
      "display_name": "Python 3",
      "name": "python3"
    }
  },
  "nbformat": 4,
  "nbformat_minor": 0
}