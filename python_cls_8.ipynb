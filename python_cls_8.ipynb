{
  "cells": [
    {
      "cell_type": "code",
      "source": [
        "import numpy as np"
      ],
      "metadata": {
        "id": "hLPfK1EVCI3Z"
      },
      "execution_count": null,
      "outputs": []
    },
    {
      "cell_type": "code",
      "source": [
        "list(),str(),tuple(),set(),dict()"
      ],
      "metadata": {
        "id": "MZ18ssuFCIz7",
        "outputId": "5a121daa-4017-47b3-d07e-e070630b1205",
        "colab": {
          "base_uri": "https://localhost:8080/"
        }
      },
      "execution_count": null,
      "outputs": [
        {
          "output_type": "execute_result",
          "data": {
            "text/plain": [
              "([], '', (), set(), {})"
            ]
          },
          "metadata": {},
          "execution_count": 2
        }
      ]
    },
    {
      "cell_type": "code",
      "source": [
        "y=np.array([1,2,3,4,5])"
      ],
      "metadata": {
        "id": "GnneEaHYCIw8"
      },
      "execution_count": null,
      "outputs": []
    },
    {
      "cell_type": "code",
      "source": [
        "x=[1,2,3]"
      ],
      "metadata": {
        "id": "CJRlCeVaCIuH"
      },
      "execution_count": null,
      "outputs": []
    },
    {
      "cell_type": "code",
      "source": [
        "type(x),type(y)"
      ],
      "metadata": {
        "id": "KeCwmlUQCIrR",
        "outputId": "73812c72-0331-4e85-c2b5-e51df7ac91e7",
        "colab": {
          "base_uri": "https://localhost:8080/"
        }
      },
      "execution_count": null,
      "outputs": [
        {
          "output_type": "execute_result",
          "data": {
            "text/plain": [
              "(list, numpy.ndarray)"
            ]
          },
          "metadata": {},
          "execution_count": 5
        }
      ]
    },
    {
      "cell_type": "code",
      "source": [
        "x/2"
      ],
      "metadata": {
        "id": "mi_g9OLaCIon",
        "outputId": "1b28c461-a137-4068-8e78-3b20b4a31d51",
        "colab": {
          "base_uri": "https://localhost:8080/",
          "height": 141
        }
      },
      "execution_count": null,
      "outputs": [
        {
          "output_type": "error",
          "ename": "TypeError",
          "evalue": "unsupported operand type(s) for /: 'list' and 'int'",
          "traceback": [
            "\u001b[0;31m---------------------------------------------------------------------------\u001b[0m",
            "\u001b[0;31mTypeError\u001b[0m                                 Traceback (most recent call last)",
            "\u001b[0;32m<ipython-input-6-a9af5bba98c4>\u001b[0m in \u001b[0;36m<cell line: 0>\u001b[0;34m()\u001b[0m\n\u001b[0;32m----> 1\u001b[0;31m \u001b[0mx\u001b[0m\u001b[0;34m/\u001b[0m\u001b[0;36m2\u001b[0m\u001b[0;34m\u001b[0m\u001b[0;34m\u001b[0m\u001b[0m\n\u001b[0m",
            "\u001b[0;31mTypeError\u001b[0m: unsupported operand type(s) for /: 'list' and 'int'"
          ]
        }
      ]
    },
    {
      "cell_type": "code",
      "source": [
        "y/2"
      ],
      "metadata": {
        "id": "JKupkQvtCImE",
        "outputId": "809cc375-709e-4919-968e-4598012a5027",
        "colab": {
          "base_uri": "https://localhost:8080/"
        }
      },
      "execution_count": null,
      "outputs": [
        {
          "output_type": "execute_result",
          "data": {
            "text/plain": [
              "array([0.5, 1. , 1.5, 2. , 2.5])"
            ]
          },
          "metadata": {},
          "execution_count": 7
        }
      ]
    },
    {
      "cell_type": "code",
      "source": [
        "x=[1,2,3,\"data science\"]"
      ],
      "metadata": {
        "id": "qBe4ASCyCIjP"
      },
      "execution_count": null,
      "outputs": []
    },
    {
      "cell_type": "code",
      "source": [
        "x"
      ],
      "metadata": {
        "id": "Hfc5_8K7CIgZ",
        "outputId": "9565104e-a04b-4dbd-90ac-622c2f382d34",
        "colab": {
          "base_uri": "https://localhost:8080/"
        }
      },
      "execution_count": null,
      "outputs": [
        {
          "output_type": "execute_result",
          "data": {
            "text/plain": [
              "[1, 2, 3, 'data science']"
            ]
          },
          "metadata": {},
          "execution_count": 9
        }
      ]
    },
    {
      "cell_type": "code",
      "source": [
        "type(x[0]),type(x[1]),type(x[2]),type(x[3])"
      ],
      "metadata": {
        "id": "mBTYAhz5CId7",
        "outputId": "a0e491d9-ee66-404c-e3ae-e28165c3d80a",
        "colab": {
          "base_uri": "https://localhost:8080/"
        }
      },
      "execution_count": null,
      "outputs": [
        {
          "output_type": "execute_result",
          "data": {
            "text/plain": [
              "(int, int, int, str)"
            ]
          },
          "metadata": {},
          "execution_count": 10
        }
      ]
    },
    {
      "cell_type": "code",
      "source": [
        "y=np.array([1,2,3.4,\"data science\"])"
      ],
      "metadata": {
        "id": "SYC8xfZDCIa5"
      },
      "execution_count": null,
      "outputs": []
    },
    {
      "cell_type": "code",
      "source": [
        "type(y[0]),type(y[1]),type(y[2]),type(y[3])"
      ],
      "metadata": {
        "id": "moBMnGR_CIYE",
        "outputId": "2a15e72c-eec4-4c41-f745-020b68f9afa4",
        "colab": {
          "base_uri": "https://localhost:8080/"
        }
      },
      "execution_count": null,
      "outputs": [
        {
          "output_type": "execute_result",
          "data": {
            "text/plain": [
              "(numpy.str_, numpy.str_, numpy.str_, numpy.str_)"
            ]
          },
          "metadata": {},
          "execution_count": 16
        }
      ]
    },
    {
      "cell_type": "code",
      "source": [
        "for i in range(1,10):\n",
        "  print(np.random.randint(0,10))"
      ],
      "metadata": {
        "id": "61ARyh_yCIVX",
        "outputId": "9ee5b4ce-cd97-446f-e54b-18c3692357d3",
        "colab": {
          "base_uri": "https://localhost:8080/"
        }
      },
      "execution_count": null,
      "outputs": [
        {
          "output_type": "stream",
          "name": "stdout",
          "text": [
            "0\n",
            "8\n",
            "0\n",
            "6\n",
            "7\n",
            "3\n",
            "3\n",
            "7\n",
            "9\n"
          ]
        }
      ]
    },
    {
      "cell_type": "code",
      "source": [
        "np.random.randint(0,10,(3,3))"
      ],
      "metadata": {
        "id": "g1L3dnuWCISk",
        "outputId": "135f130e-384d-499e-9de4-776266210b99",
        "colab": {
          "base_uri": "https://localhost:8080/"
        }
      },
      "execution_count": null,
      "outputs": [
        {
          "output_type": "execute_result",
          "data": {
            "text/plain": [
              "array([[8, 0, 4],\n",
              "       [6, 4, 8],\n",
              "       [8, 1, 4]])"
            ]
          },
          "metadata": {},
          "execution_count": 21
        }
      ]
    },
    {
      "cell_type": "code",
      "source": [
        "data=np.random.randint(0,100,(5,5))"
      ],
      "metadata": {
        "id": "WFETvzMGCIPw"
      },
      "execution_count": null,
      "outputs": []
    },
    {
      "cell_type": "code",
      "source": [
        "data"
      ],
      "metadata": {
        "id": "ZFArjPB6EjVp",
        "outputId": "c933f42d-d54b-4994-cad5-5968babc2045",
        "colab": {
          "base_uri": "https://localhost:8080/"
        }
      },
      "execution_count": null,
      "outputs": [
        {
          "output_type": "execute_result",
          "data": {
            "text/plain": [
              "array([[32, 93, 29, 83, 13],\n",
              "       [88, 83, 58, 85, 37],\n",
              "       [33, 26, 73, 76, 35],\n",
              "       [83, 74, 29, 64, 69],\n",
              "       [90, 55,  2, 14, 50]])"
            ]
          },
          "metadata": {},
          "execution_count": 23
        }
      ]
    },
    {
      "cell_type": "code",
      "source": [
        "data[1:3,4:5]"
      ],
      "metadata": {
        "id": "gSc-GJ10EjSE",
        "outputId": "3f8e6e19-270d-4090-883f-2099558376e3",
        "colab": {
          "base_uri": "https://localhost:8080/"
        }
      },
      "execution_count": null,
      "outputs": [
        {
          "output_type": "execute_result",
          "data": {
            "text/plain": [
              "array([[37],\n",
              "       [35]])"
            ]
          },
          "metadata": {},
          "execution_count": 27
        }
      ]
    },
    {
      "cell_type": "code",
      "source": [
        "data[-5:-4,-5:-3]"
      ],
      "metadata": {
        "id": "7rjLCeJIEjPu",
        "outputId": "977f3d68-9ad6-45fa-aba3-bfdfc8649022",
        "colab": {
          "base_uri": "https://localhost:8080/"
        }
      },
      "execution_count": null,
      "outputs": [
        {
          "output_type": "execute_result",
          "data": {
            "text/plain": [
              "array([[32, 93]])"
            ]
          },
          "metadata": {},
          "execution_count": 30
        }
      ]
    },
    {
      "cell_type": "code",
      "source": [
        "data"
      ],
      "metadata": {
        "id": "XaEpHiROEjNA",
        "outputId": "8080edf1-1f48-41bd-e195-508c7e3eec4a",
        "colab": {
          "base_uri": "https://localhost:8080/"
        }
      },
      "execution_count": null,
      "outputs": [
        {
          "output_type": "execute_result",
          "data": {
            "text/plain": [
              "array([[32, 93, 29, 83, 13],\n",
              "       [88, 83, 58, 85, 37],\n",
              "       [33, 26, 73, 76, 35],\n",
              "       [83, 74, 29, 64, 69],\n",
              "       [90, 55,  2, 14, 50]])"
            ]
          },
          "metadata": {},
          "execution_count": 31
        }
      ]
    },
    {
      "cell_type": "code",
      "source": [
        "data[-3:-1,-3:-1]"
      ],
      "metadata": {
        "id": "ORH6yM-zEjKV",
        "outputId": "e044fe44-e1d8-40c4-d30d-5e36efddc41c",
        "colab": {
          "base_uri": "https://localhost:8080/"
        }
      },
      "execution_count": null,
      "outputs": [
        {
          "output_type": "execute_result",
          "data": {
            "text/plain": [
              "array([[73, 76],\n",
              "       [29, 64]])"
            ]
          },
          "metadata": {},
          "execution_count": 32
        }
      ]
    },
    {
      "cell_type": "code",
      "source": [
        "data[0,:]"
      ],
      "metadata": {
        "id": "qfHFWbUmEjIX",
        "outputId": "375d01b3-9a08-493a-8f08-07f4502665d4",
        "colab": {
          "base_uri": "https://localhost:8080/"
        }
      },
      "execution_count": null,
      "outputs": [
        {
          "output_type": "execute_result",
          "data": {
            "text/plain": [
              "array([32, 93, 29, 83, 13])"
            ]
          },
          "metadata": {},
          "execution_count": 33
        }
      ]
    },
    {
      "cell_type": "code",
      "source": [
        "data.shape"
      ],
      "metadata": {
        "id": "HKlsOtdxHBF_",
        "outputId": "a2f5bb4f-d717-40c6-eb74-571044ffa753",
        "colab": {
          "base_uri": "https://localhost:8080/"
        }
      },
      "execution_count": null,
      "outputs": [
        {
          "output_type": "execute_result",
          "data": {
            "text/plain": [
              "(5, 5)"
            ]
          },
          "metadata": {},
          "execution_count": 38
        }
      ]
    },
    {
      "cell_type": "code",
      "source": [
        "data.size"
      ],
      "metadata": {
        "id": "AZIgguZOHBAj",
        "outputId": "2f3bcebf-13ff-4044-93a2-fbbfc4b650a2",
        "colab": {
          "base_uri": "https://localhost:8080/"
        }
      },
      "execution_count": null,
      "outputs": [
        {
          "output_type": "execute_result",
          "data": {
            "text/plain": [
              "25"
            ]
          },
          "metadata": {},
          "execution_count": 39
        }
      ]
    },
    {
      "cell_type": "code",
      "source": [
        "data.T"
      ],
      "metadata": {
        "id": "dNK3VVk1HA9j",
        "outputId": "957dbf88-7271-46c5-811b-814ab0fad6aa",
        "colab": {
          "base_uri": "https://localhost:8080/"
        }
      },
      "execution_count": null,
      "outputs": [
        {
          "output_type": "execute_result",
          "data": {
            "text/plain": [
              "array([[32, 88, 33, 83, 90],\n",
              "       [93, 83, 26, 74, 55],\n",
              "       [29, 58, 73, 29,  2],\n",
              "       [83, 85, 76, 64, 14],\n",
              "       [13, 37, 35, 69, 50]])"
            ]
          },
          "metadata": {},
          "execution_count": 40
        }
      ]
    },
    {
      "cell_type": "code",
      "source": [
        "data"
      ],
      "metadata": {
        "id": "8LeSgP5pHA5Y",
        "outputId": "2895be19-da07-438c-cdbb-5438076e31b2",
        "colab": {
          "base_uri": "https://localhost:8080/"
        }
      },
      "execution_count": null,
      "outputs": [
        {
          "output_type": "execute_result",
          "data": {
            "text/plain": [
              "array([[32, 93, 29, 83, 13],\n",
              "       [88, 83, 58, 85, 37],\n",
              "       [33, 26, 73, 76, 35],\n",
              "       [83, 74, 29, 64, 69],\n",
              "       [90, 55,  2, 14, 50]])"
            ]
          },
          "metadata": {},
          "execution_count": 41
        }
      ]
    },
    {
      "cell_type": "code",
      "source": [
        "x=2"
      ],
      "metadata": {
        "id": "1FIR_U1rHA15"
      },
      "execution_count": null,
      "outputs": []
    },
    {
      "cell_type": "code",
      "source": [
        "data*2"
      ],
      "metadata": {
        "id": "6-chwvqcHAuw",
        "outputId": "65d94b9d-aad6-42cd-f3c5-3ac3234a9608",
        "colab": {
          "base_uri": "https://localhost:8080/"
        }
      },
      "execution_count": null,
      "outputs": [
        {
          "output_type": "execute_result",
          "data": {
            "text/plain": [
              "array([[ 64, 186,  58, 166,  26],\n",
              "       [176, 166, 116, 170,  74],\n",
              "       [ 66,  52, 146, 152,  70],\n",
              "       [166, 148,  58, 128, 138],\n",
              "       [180, 110,   4,  28, 100]])"
            ]
          },
          "metadata": {},
          "execution_count": 44
        }
      ]
    },
    {
      "cell_type": "code",
      "source": [
        "data/2"
      ],
      "metadata": {
        "id": "bEko4tGqHZ3P",
        "outputId": "50622074-0996-4dcb-896a-78eea033f507",
        "colab": {
          "base_uri": "https://localhost:8080/"
        }
      },
      "execution_count": null,
      "outputs": [
        {
          "output_type": "execute_result",
          "data": {
            "text/plain": [
              "array([[16. , 46.5, 14.5, 41.5,  6.5],\n",
              "       [44. , 41.5, 29. , 42.5, 18.5],\n",
              "       [16.5, 13. , 36.5, 38. , 17.5],\n",
              "       [41.5, 37. , 14.5, 32. , 34.5],\n",
              "       [45. , 27.5,  1. ,  7. , 25. ]])"
            ]
          },
          "metadata": {},
          "execution_count": 45
        }
      ]
    },
    {
      "cell_type": "code",
      "source": [
        "data+2"
      ],
      "metadata": {
        "id": "iT7F52HUHZzr",
        "outputId": "5cb25e32-1258-4b59-b03a-7aad0fa97e5c",
        "colab": {
          "base_uri": "https://localhost:8080/"
        }
      },
      "execution_count": null,
      "outputs": [
        {
          "output_type": "execute_result",
          "data": {
            "text/plain": [
              "array([[34, 95, 31, 85, 15],\n",
              "       [90, 85, 60, 87, 39],\n",
              "       [35, 28, 75, 78, 37],\n",
              "       [85, 76, 31, 66, 71],\n",
              "       [92, 57,  4, 16, 52]])"
            ]
          },
          "metadata": {},
          "execution_count": 46
        }
      ]
    },
    {
      "cell_type": "code",
      "source": [
        "data-2"
      ],
      "metadata": {
        "id": "t6uNovi_HZxQ",
        "outputId": "fea27054-8d46-488a-fac2-133c914c9d90",
        "colab": {
          "base_uri": "https://localhost:8080/"
        }
      },
      "execution_count": null,
      "outputs": [
        {
          "output_type": "execute_result",
          "data": {
            "text/plain": [
              "array([[30, 91, 27, 81, 11],\n",
              "       [86, 81, 56, 83, 35],\n",
              "       [31, 24, 71, 74, 33],\n",
              "       [81, 72, 27, 62, 67],\n",
              "       [88, 53,  0, 12, 48]])"
            ]
          },
          "metadata": {},
          "execution_count": 47
        }
      ]
    },
    {
      "cell_type": "code",
      "source": [
        "data**2"
      ],
      "metadata": {
        "id": "yHoyNUK2HZuo",
        "outputId": "5490498d-7190-463a-8d6e-7dcc0494de6d",
        "colab": {
          "base_uri": "https://localhost:8080/"
        }
      },
      "execution_count": null,
      "outputs": [
        {
          "output_type": "execute_result",
          "data": {
            "text/plain": [
              "array([[1024, 8649,  841, 6889,  169],\n",
              "       [7744, 6889, 3364, 7225, 1369],\n",
              "       [1089,  676, 5329, 5776, 1225],\n",
              "       [6889, 5476,  841, 4096, 4761],\n",
              "       [8100, 3025,    4,  196, 2500]])"
            ]
          },
          "metadata": {},
          "execution_count": 48
        }
      ]
    },
    {
      "cell_type": "code",
      "source": [
        "data//2"
      ],
      "metadata": {
        "id": "EX5t3OpAHZsG",
        "outputId": "ccae2096-6074-4834-ab50-cb2bff96da95",
        "colab": {
          "base_uri": "https://localhost:8080/"
        }
      },
      "execution_count": null,
      "outputs": [
        {
          "output_type": "execute_result",
          "data": {
            "text/plain": [
              "array([[16, 46, 14, 41,  6],\n",
              "       [44, 41, 29, 42, 18],\n",
              "       [16, 13, 36, 38, 17],\n",
              "       [41, 37, 14, 32, 34],\n",
              "       [45, 27,  1,  7, 25]])"
            ]
          },
          "metadata": {},
          "execution_count": 49
        }
      ]
    },
    {
      "cell_type": "code",
      "source": [
        "x=np.random.randint(0,10,(3,3))\n",
        "y=np.random.randint(0,10,(3,3))"
      ],
      "metadata": {
        "id": "lnpryuo7HZpf"
      },
      "execution_count": null,
      "outputs": []
    },
    {
      "cell_type": "code",
      "source": [
        "x"
      ],
      "metadata": {
        "id": "8pBexZ3tHZm9",
        "outputId": "91fe1df0-8067-4133-b6b3-660acb4acef7",
        "colab": {
          "base_uri": "https://localhost:8080/"
        }
      },
      "execution_count": null,
      "outputs": [
        {
          "output_type": "execute_result",
          "data": {
            "text/plain": [
              "array([[0, 5, 4],\n",
              "       [2, 1, 9],\n",
              "       [7, 7, 8]])"
            ]
          },
          "metadata": {},
          "execution_count": 51
        }
      ]
    },
    {
      "cell_type": "code",
      "source": [
        "y"
      ],
      "metadata": {
        "id": "e6uRXfJ6HZkI",
        "outputId": "02a296ae-31d4-44cb-f2e7-d5a8d70e2e73",
        "colab": {
          "base_uri": "https://localhost:8080/"
        }
      },
      "execution_count": null,
      "outputs": [
        {
          "output_type": "execute_result",
          "data": {
            "text/plain": [
              "array([[2, 6, 2],\n",
              "       [9, 5, 2],\n",
              "       [2, 1, 9]])"
            ]
          },
          "metadata": {},
          "execution_count": 52
        }
      ]
    },
    {
      "cell_type": "code",
      "source": [
        "np.add(x,2)"
      ],
      "metadata": {
        "id": "jrdmYM7lH084",
        "outputId": "c80428e0-ac08-46d6-89c6-ff114618aa85",
        "colab": {
          "base_uri": "https://localhost:8080/"
        }
      },
      "execution_count": null,
      "outputs": [
        {
          "output_type": "execute_result",
          "data": {
            "text/plain": [
              "array([[ 2,  7,  6],\n",
              "       [ 4,  3, 11],\n",
              "       [ 9,  9, 10]])"
            ]
          },
          "metadata": {},
          "execution_count": 53
        }
      ]
    },
    {
      "cell_type": "code",
      "source": [
        "np.add(y,2)"
      ],
      "metadata": {
        "id": "w8m2G7WGH05V",
        "outputId": "879d82b7-e35a-4256-89fc-e7d227f7be6e",
        "colab": {
          "base_uri": "https://localhost:8080/"
        }
      },
      "execution_count": null,
      "outputs": [
        {
          "output_type": "execute_result",
          "data": {
            "text/plain": [
              "array([[ 4,  8,  4],\n",
              "       [11,  7,  4],\n",
              "       [ 4,  3, 11]])"
            ]
          },
          "metadata": {},
          "execution_count": 54
        }
      ]
    },
    {
      "cell_type": "code",
      "source": [
        "np.multiply(x,2)"
      ],
      "metadata": {
        "id": "ecmXAYXbH02o",
        "outputId": "5093e270-3ee8-411b-80be-c28b2db2d7ea",
        "colab": {
          "base_uri": "https://localhost:8080/"
        }
      },
      "execution_count": null,
      "outputs": [
        {
          "output_type": "execute_result",
          "data": {
            "text/plain": [
              "array([[ 0, 10,  8],\n",
              "       [ 4,  2, 18],\n",
              "       [14, 14, 16]])"
            ]
          },
          "metadata": {},
          "execution_count": 55
        }
      ]
    },
    {
      "cell_type": "code",
      "source": [
        "np.divide(x,2)"
      ],
      "metadata": {
        "id": "qCVNOzwkH00C",
        "outputId": "41d92ef7-86ad-4756-f273-c26c7a86979f",
        "colab": {
          "base_uri": "https://localhost:8080/"
        }
      },
      "execution_count": null,
      "outputs": [
        {
          "output_type": "execute_result",
          "data": {
            "text/plain": [
              "array([[0. , 2.5, 2. ],\n",
              "       [1. , 0.5, 4.5],\n",
              "       [3.5, 3.5, 4. ]])"
            ]
          },
          "metadata": {},
          "execution_count": 56
        }
      ]
    },
    {
      "cell_type": "code",
      "source": [
        "np.floor_divide(x,2)"
      ],
      "metadata": {
        "id": "XrjdSV_dH0xn",
        "outputId": "33d14f5c-9bf7-4e42-8bbc-0a41279476b4",
        "colab": {
          "base_uri": "https://localhost:8080/"
        }
      },
      "execution_count": null,
      "outputs": [
        {
          "output_type": "execute_result",
          "data": {
            "text/plain": [
              "array([[0, 2, 2],\n",
              "       [1, 0, 4],\n",
              "       [3, 3, 4]])"
            ]
          },
          "metadata": {},
          "execution_count": 57
        }
      ]
    },
    {
      "cell_type": "code",
      "source": [
        "np.exp(x)"
      ],
      "metadata": {
        "id": "gMEZX7gqH0vV",
        "outputId": "4e05743a-1167-4783-b2d7-de9e847aaba9",
        "colab": {
          "base_uri": "https://localhost:8080/"
        }
      },
      "execution_count": null,
      "outputs": [
        {
          "output_type": "execute_result",
          "data": {
            "text/plain": [
              "array([[1.00000000e+00, 1.48413159e+02, 5.45981500e+01],\n",
              "       [7.38905610e+00, 2.71828183e+00, 8.10308393e+03],\n",
              "       [1.09663316e+03, 1.09663316e+03, 2.98095799e+03]])"
            ]
          },
          "metadata": {},
          "execution_count": 58
        }
      ]
    },
    {
      "cell_type": "code",
      "source": [
        "np.pow(x,2)"
      ],
      "metadata": {
        "id": "aaTc7kwJH0sy",
        "outputId": "5873ea0f-4b0c-445c-8641-f36bca268732",
        "colab": {
          "base_uri": "https://localhost:8080/"
        }
      },
      "execution_count": null,
      "outputs": [
        {
          "output_type": "execute_result",
          "data": {
            "text/plain": [
              "array([[ 0, 25, 16],\n",
              "       [ 4,  1, 81],\n",
              "       [49, 49, 64]])"
            ]
          },
          "metadata": {},
          "execution_count": 59
        }
      ]
    },
    {
      "cell_type": "code",
      "source": [
        "np.random.rand(5,5)"
      ],
      "metadata": {
        "id": "EUAvCC2yH0qJ",
        "outputId": "2cd91ebf-6e76-47bf-85d9-0b9bf8dac045",
        "colab": {
          "base_uri": "https://localhost:8080/"
        }
      },
      "execution_count": null,
      "outputs": [
        {
          "output_type": "execute_result",
          "data": {
            "text/plain": [
              "array([[0.15612698, 0.95208855, 0.57214053, 0.77137814, 0.83946418],\n",
              "       [0.82671629, 0.40809726, 0.19730136, 0.02615794, 0.24076126],\n",
              "       [0.83609483, 0.95686822, 0.09734501, 0.58352828, 0.54912476],\n",
              "       [0.93814167, 0.4592048 , 0.97771123, 0.34764677, 0.70597112],\n",
              "       [0.42795743, 0.45169472, 0.03199943, 0.00118808, 0.42193548]])"
            ]
          },
          "metadata": {},
          "execution_count": 61
        }
      ]
    },
    {
      "cell_type": "code",
      "source": [
        "np.random.rand(1200,1200).std()"
      ],
      "metadata": {
        "id": "l89Xw96_H0nd",
        "outputId": "cd3c994c-d092-4551-ec86-2525e9a003e4",
        "colab": {
          "base_uri": "https://localhost:8080/"
        }
      },
      "execution_count": null,
      "outputs": [
        {
          "output_type": "execute_result",
          "data": {
            "text/plain": [
              "np.float64(0.28875912170121193)"
            ]
          },
          "metadata": {},
          "execution_count": 63
        }
      ]
    },
    {
      "cell_type": "code",
      "source": [
        "np.eye(5)"
      ],
      "metadata": {
        "id": "E1HWywbLIlJ-",
        "outputId": "e016026d-3328-4231-c934-98c546ffa795",
        "colab": {
          "base_uri": "https://localhost:8080/"
        }
      },
      "execution_count": null,
      "outputs": [
        {
          "output_type": "execute_result",
          "data": {
            "text/plain": [
              "array([[1., 0., 0., 0., 0.],\n",
              "       [0., 1., 0., 0., 0.],\n",
              "       [0., 0., 1., 0., 0.],\n",
              "       [0., 0., 0., 1., 0.],\n",
              "       [0., 0., 0., 0., 1.]])"
            ]
          },
          "metadata": {},
          "execution_count": 64
        }
      ]
    },
    {
      "cell_type": "code",
      "source": [
        "np.zeros(5)"
      ],
      "metadata": {
        "id": "kpK7jWYEIlHz",
        "outputId": "0d88763a-bb3e-497e-e24c-25729652283e",
        "colab": {
          "base_uri": "https://localhost:8080/"
        }
      },
      "execution_count": null,
      "outputs": [
        {
          "output_type": "execute_result",
          "data": {
            "text/plain": [
              "array([0., 0., 0., 0., 0.])"
            ]
          },
          "metadata": {},
          "execution_count": 66
        }
      ]
    },
    {
      "cell_type": "code",
      "source": [
        "np.zeros((5,5))"
      ],
      "metadata": {
        "id": "UHhF7P4AIlFc",
        "outputId": "82029153-da0f-40a9-cb9a-9bcccff2c93f",
        "colab": {
          "base_uri": "https://localhost:8080/"
        }
      },
      "execution_count": null,
      "outputs": [
        {
          "output_type": "execute_result",
          "data": {
            "text/plain": [
              "array([[0., 0., 0., 0., 0.],\n",
              "       [0., 0., 0., 0., 0.],\n",
              "       [0., 0., 0., 0., 0.],\n",
              "       [0., 0., 0., 0., 0.],\n",
              "       [0., 0., 0., 0., 0.]])"
            ]
          },
          "metadata": {},
          "execution_count": 67
        }
      ]
    },
    {
      "cell_type": "code",
      "source": [
        "np.ones((5,5))"
      ],
      "metadata": {
        "id": "FiJcuQ3uIlDT",
        "outputId": "82cbcc19-1ed2-446b-991b-e82fd6daf22f",
        "colab": {
          "base_uri": "https://localhost:8080/"
        }
      },
      "execution_count": null,
      "outputs": [
        {
          "output_type": "execute_result",
          "data": {
            "text/plain": [
              "array([[1., 1., 1., 1., 1.],\n",
              "       [1., 1., 1., 1., 1.],\n",
              "       [1., 1., 1., 1., 1.],\n",
              "       [1., 1., 1., 1., 1.],\n",
              "       [1., 1., 1., 1., 1.]])"
            ]
          },
          "metadata": {},
          "execution_count": 70
        }
      ]
    },
    {
      "cell_type": "code",
      "source": [
        "data=np.random.randint(0,10,(5,5))"
      ],
      "metadata": {
        "id": "K_J6MP-cIlBG"
      },
      "execution_count": null,
      "outputs": []
    },
    {
      "cell_type": "code",
      "source": [
        "data"
      ],
      "metadata": {
        "id": "htphsKYGIk_A",
        "outputId": "5f35df6a-b4cf-44ed-9056-d5b46e9902ad",
        "colab": {
          "base_uri": "https://localhost:8080/"
        }
      },
      "execution_count": null,
      "outputs": [
        {
          "output_type": "execute_result",
          "data": {
            "text/plain": [
              "array([[2, 7, 5, 1, 4],\n",
              "       [9, 1, 9, 7, 9],\n",
              "       [7, 2, 6, 2, 6],\n",
              "       [8, 5, 4, 5, 9],\n",
              "       [1, 6, 6, 3, 2]])"
            ]
          },
          "metadata": {},
          "execution_count": 72
        }
      ]
    },
    {
      "cell_type": "code",
      "source": [
        "print(data.sum())\n",
        "print(data.min())\n",
        "print(data.max())"
      ],
      "metadata": {
        "id": "Jj3TTbjHIk7L",
        "outputId": "ec598466-5c1d-4955-998d-ad10ba083469",
        "colab": {
          "base_uri": "https://localhost:8080/"
        }
      },
      "execution_count": null,
      "outputs": [
        {
          "output_type": "stream",
          "name": "stdout",
          "text": [
            "126\n",
            "1\n",
            "9\n"
          ]
        }
      ]
    },
    {
      "cell_type": "code",
      "source": [
        "data.argmax()"
      ],
      "metadata": {
        "id": "TB2dEFa8Ik4V",
        "outputId": "d863cd82-b65d-42a8-cfd1-8b30b93b6648",
        "colab": {
          "base_uri": "https://localhost:8080/"
        }
      },
      "execution_count": null,
      "outputs": [
        {
          "output_type": "execute_result",
          "data": {
            "text/plain": [
              "np.int64(5)"
            ]
          },
          "metadata": {},
          "execution_count": 74
        }
      ]
    },
    {
      "cell_type": "code",
      "source": [
        "data=np.random.randint(0,10,(3,3))"
      ],
      "metadata": {
        "id": "WTJ5YHwCIk1h"
      },
      "execution_count": null,
      "outputs": []
    },
    {
      "cell_type": "code",
      "source": [
        "data"
      ],
      "metadata": {
        "id": "N_SbJONhIkzI",
        "outputId": "114fb480-0e83-4c14-d1d0-f334a0745623",
        "colab": {
          "base_uri": "https://localhost:8080/"
        }
      },
      "execution_count": null,
      "outputs": [
        {
          "output_type": "execute_result",
          "data": {
            "text/plain": [
              "array([[0, 0, 1],\n",
              "       [3, 1, 8],\n",
              "       [5, 8, 9]])"
            ]
          },
          "metadata": {},
          "execution_count": 76
        }
      ]
    },
    {
      "cell_type": "code",
      "source": [
        "data.sum(axis=1)"
      ],
      "metadata": {
        "id": "Kh8qZgu8Ikwm",
        "outputId": "80bc2c14-4e83-4218-9b3f-e21eec0ab193",
        "colab": {
          "base_uri": "https://localhost:8080/"
        }
      },
      "execution_count": null,
      "outputs": [
        {
          "output_type": "execute_result",
          "data": {
            "text/plain": [
              "array([ 1, 12, 22])"
            ]
          },
          "metadata": {},
          "execution_count": 77
        }
      ]
    },
    {
      "cell_type": "code",
      "source": [
        "data.sum(axis=0)"
      ],
      "metadata": {
        "id": "uRxJIG29JkSQ",
        "outputId": "b5edd0bc-dad9-4d68-b987-e9a7bdc643aa",
        "colab": {
          "base_uri": "https://localhost:8080/"
        }
      },
      "execution_count": null,
      "outputs": [
        {
          "output_type": "execute_result",
          "data": {
            "text/plain": [
              "array([ 8,  9, 18])"
            ]
          },
          "metadata": {},
          "execution_count": 79
        }
      ]
    },
    {
      "cell_type": "code",
      "source": [
        "data"
      ],
      "metadata": {
        "id": "h924ogR6JkO2",
        "outputId": "f5c504ac-7c2e-46ce-ed01-753e03dd60d9",
        "colab": {
          "base_uri": "https://localhost:8080/"
        }
      },
      "execution_count": null,
      "outputs": [
        {
          "output_type": "execute_result",
          "data": {
            "text/plain": [
              "array([[0, 0, 1],\n",
              "       [3, 1, 8],\n",
              "       [5, 8, 9]])"
            ]
          },
          "metadata": {},
          "execution_count": 80
        }
      ]
    },
    {
      "cell_type": "code",
      "source": [
        "data.argmin(axis=1)"
      ],
      "metadata": {
        "id": "g8do2aXXJkMQ",
        "outputId": "39cbe3b3-ade6-41b3-b403-f4f41621a928",
        "colab": {
          "base_uri": "https://localhost:8080/"
        }
      },
      "execution_count": null,
      "outputs": [
        {
          "output_type": "execute_result",
          "data": {
            "text/plain": [
              "array([0, 1, 0])"
            ]
          },
          "metadata": {},
          "execution_count": 81
        }
      ]
    },
    {
      "cell_type": "code",
      "source": [
        "data.argmax(axis=1)"
      ],
      "metadata": {
        "id": "n6ZsM7KJJkJv",
        "outputId": "0629e22e-d294-43dd-e388-a50e064d54ea",
        "colab": {
          "base_uri": "https://localhost:8080/"
        }
      },
      "execution_count": null,
      "outputs": [
        {
          "output_type": "execute_result",
          "data": {
            "text/plain": [
              "array([2, 2, 2])"
            ]
          },
          "metadata": {},
          "execution_count": 82
        }
      ]
    },
    {
      "cell_type": "code",
      "source": [
        "data.argmin(axis=0)"
      ],
      "metadata": {
        "id": "pFkLQmukJkHO",
        "outputId": "f387e36b-7999-481f-e4b0-95b74eb9187d",
        "colab": {
          "base_uri": "https://localhost:8080/"
        }
      },
      "execution_count": null,
      "outputs": [
        {
          "output_type": "execute_result",
          "data": {
            "text/plain": [
              "array([0, 0, 0])"
            ]
          },
          "metadata": {},
          "execution_count": 83
        }
      ]
    },
    {
      "cell_type": "code",
      "source": [
        "data.argmax(axis=0)"
      ],
      "metadata": {
        "id": "ZjeobvAlKDkz",
        "outputId": "33466e74-f8ac-4b84-f1f7-c69495863758",
        "colab": {
          "base_uri": "https://localhost:8080/"
        }
      },
      "execution_count": null,
      "outputs": [
        {
          "output_type": "execute_result",
          "data": {
            "text/plain": [
              "array([2, 2, 2])"
            ]
          },
          "metadata": {},
          "execution_count": 84
        }
      ]
    }
  ],
  "metadata": {
    "colab": {
      "toc_visible": true,
      "provenance": []
    },
    "kernelspec": {
      "display_name": "Python 3",
      "name": "python3"
    }
  },
  "nbformat": 4,
  "nbformat_minor": 0
}